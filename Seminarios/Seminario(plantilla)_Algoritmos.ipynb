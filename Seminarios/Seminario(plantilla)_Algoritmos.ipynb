{
  "nbformat": 4,
  "nbformat_minor": 0,
  "metadata": {
    "colab": {
      "name": "Seminario(plantilla) - Algoritmos.ipynb",
      "version": "0.3.2",
      "provenance": [],
      "collapsed_sections": [],
      "include_colab_link": true
    },
    "kernelspec": {
      "name": "python3",
      "display_name": "Python 3"
    }
  },
  "cells": [
    {
      "cell_type": "markdown",
      "metadata": {
        "id": "view-in-github",
        "colab_type": "text"
      },
      "source": [
        "<a href=\"https://colab.research.google.com/github/AdrianFernandoPenafiel/03MAIR-Algoritmos-de-optimizacion/blob/master/Seminarios/Seminario(plantilla)_Algoritmos.ipynb\" target=\"_parent\"><img src=\"https://colab.research.google.com/assets/colab-badge.svg\" alt=\"Open In Colab\"/></a>"
      ]
    },
    {
      "metadata": {
        "id": "hVbXYX-RfPWh",
        "colab_type": "text"
      },
      "cell_type": "markdown",
      "source": [
        "# Algoritmos de optimización - Seminario<br>\n",
        "Nombre y Apellidos: ADRIAN PEÑAFIEL   <br>\n",
        "Url: https: https://github.com/AdrianFernandoPenafiel/03MAIR-Algoritmos-de-optimizacion/blob/master/Seminarios/Seminario_Algoritmos.ipynb\n",
        "\n",
        "\n",
        "\n",
        "\n",
        "                                        "
      ]
    },
    {
      "metadata": {
        "id": "f0XpAvuTONmB",
        "colab_type": "code",
        "colab": {}
      },
      "cell_type": "code",
      "source": [
        "#librerias a ser usadas durante todo el seminario\n",
        "import pandas as pd\n",
        "import numpy as np\n",
        "from datetime import datetime"
      ],
      "execution_count": 0,
      "outputs": []
    },
    {
      "metadata": {
        "id": "qz544r7V3wUR",
        "colab_type": "text"
      },
      "cell_type": "markdown",
      "source": [
        "# **Problema 1:**\n",
        "\n",
        ">1. Elección de grupos de población homogéneos <BR>\n",
        "\n",
        "  <font color=\"blue\">**Descripción del problema:** </font><br>\n",
        "\n",
        "Una productora ganadera nos encarga la tarea de seleccionar grupos de terneros para aplicar 3 tratamientos diferentes. Para cada uno de los tratamientos debemos seleccionar 3 grupos de terneros que sean lo mas homogéneos posible en peso para que en los resultados del tratamiento influya lo menos posible el peso del animal. Disponemos de una población de N animales entre machos y hembras\n",
        "\n",
        "  \n",
        "<font color=\"blue\">**Restricciones:** </font><br>\n",
        "\n",
        "  Aun se desconocen los datos concretos de los animales por lo que debemos trabajar con datos que debemos generar de forma aleatoria. Lo que si nos proporcionan es una plantilla de los datos:\n",
        "\n",
        "ID | Peso | Sexo\n",
        "-- | -- | --\n",
        "1 | 38.7 | M\n",
        "2 | 37.1 | H\n",
        "3 | 39.2 | M\n",
        "\n",
        "Hemos podido averiguar que el peso medio del ternero es 37kg con una desviación estándar de 2.1\n"
      ]
    },
    {
      "metadata": {
        "id": "3_-exlrTgLd-",
        "colab_type": "text"
      },
      "cell_type": "markdown",
      "source": [
        "<font color=\"blue\">**(*)¿Cuantas posibilidades hay sin tener en cuenta las restricciones? ** </font> <br>\n",
        "\n",
        "El primer punto ha considerar es que entendemos por \"Grupo Homogeneo\", y en primera instancia podemos asumir que se nos pide dividir la poblacion total de N terneros en los 3 grupos para cada uno de los 3 tratamientos, es decir, dividir en 9 grupos en total, 3 para cada uno de los 3 tratamientos.\n",
        "\n",
        "Para esto debemos calcular la combinatoria posible de agrupar N elementos del conjunto en grupos de aprox N/9 elementos.\n",
        "\n",
        "$$ C_i^j = \\binom {N}{N/9} $$\n",
        "\n",
        "Que para el caso de tener N=360 terneros, dividrlos en 9 grupos de 40 terneros cada uno, obtendríamos un total de combinacines posibles de 2.3E+53, lo cual lo combierte en un potencial problema tipo NP\n",
        "\n",
        "\n",
        "\n",
        "\n",
        "<font color=\"blue\">**¿Cuantas posibilidades hay teniendo en cuenta todas las restricciones.**</font> <br>\n",
        "\n",
        "Para este caso, las restricciones lo limitan el universo de soluciones, por lo cual es el mismo descrito en la pregunta anterior\n",
        "\n"
      ]
    },
    {
      "metadata": {
        "id": "dzynfVJahHoY",
        "colab_type": "text"
      },
      "cell_type": "markdown",
      "source": [
        "<font color = \"blue\">**Modelo para el espacio de soluciones<br>\n",
        "(*) ¿Cual es la estructura de datos que mejor se adapta al problema? Argumentalo.(Es posible que hayas elegido una al principio y veas la necesidad de cambiar, argumentalo)**</font><br>\n"
      ]
    },
    {
      "metadata": {
        "id": "xFIJrOwKi2Ti",
        "colab_type": "text"
      },
      "cell_type": "markdown",
      "source": [
        "Para la selección de la estructura de datos a ser implementada la solución lo realicé pensando en cual sería la mejor forma de presentar la solución final para de allí partir en la potencial selección. <br>\n",
        "\n",
        "Pensando de esta manera, la respuesta final al ganadero sería el proveerle de un \"listado\" en donde finalmente se le diga PARA CADA TERNERO, a que GRUPO pertenece y que TRATAMIENTO aplicar, por esto el que mas se me adecua es un *DataFrame*<br>\n",
        "\n",
        "Por otra parte, mis habilidades de manejo del lenguaje aún no son las mayores, por lo que la solución al problema originalmente fue implementada en el lenguaje y herramienta de mi especialidad, esto es Excel, y el uso de las hojas de calculo se acoplan muy bien para ser traducidas como *DataFrames* en Phyton.<br>\n",
        "\n",
        "\n",
        "Requeri usar en la implementación 5 Dataframes que los describo a continuacion:<br>\n",
        "\n",
        "ID Dataframe | Descripcion | Atributo\n",
        "-- | -- | --\n",
        "#0 | Datos Originales Terneros, pesos aleatoreos | \n",
        " | ID Ternero | ID\n",
        "  | Peso del ternero | Peso\n",
        "  | Tipo o genero del ternero | Tipo\n",
        "#1 |Pila de trabajo para extraer conunto de terneros mas optimo a cada grupo (voraz) | \n",
        " | ID Ternero | ID\n",
        "  | Peso del ternero | Peso\n",
        "  | Desviacion Std, del grupo contiguo. Std(Peso) siguientes T registros, en donde T es el tamaño de grupo calculado (MEJORAR HOMOGENEIDAD INTRAGRUPO)| DesvStd\n",
        "  |Promedio Peso, del grupo contiguo. Avg(Peso) siguientes T registros, en donde T es el tamaño de grupo calculado|PromGrupo\n",
        "  |Promedio del Peso del Universo de Terneros|\tPromUniv\n",
        "  |Desviación STD del Promedio del Peso del Grupo vs Promedio Universo de Terneros (MEJORAR HOMEGENEIDAD INTERGRUPOS)\t|DesvVsUniv\n",
        "|Funcion Objetivo a evaluar para seleccionar que conjunto de terneros son mas homogeneos para asignarlos a un grupo, mientras menor sea (AVG(DesvStd,DesvVsUniv) considero un grupo mas Homogeneo Internamente y que lo será vs el resto de grupos\t|Funcion\n",
        "#2|Datos finales objetivo del algoritmo\n",
        "|ID de tramiento a ser colocado (1,2,3)\t|IDTratamiento\n",
        "|ID Ternero\t|ID\n",
        "|Peso Ternero\t|Peso\n",
        "|Numero de grupo asignado al ternero\t|Grupo\n",
        "#3|Pila de trabajo para extraer conjunto de grupos optimos a cada tratamiento (voraz)|\n",
        "|Numero de grupo extraido\t|Grupo\n",
        "|Numero de terneros incluidos en el grupo\t|Contador\n",
        "|Desviación STD del peso de los terneros del grupo\t|STD_PESO\n",
        "|Promedio del peso de los terneros del grupo\t|PROM_PESO\n",
        "|Promedio de la Desviacion STD de los 3 grupos contiguos - Ordenados previamente por DESVSTD, HOMOGENEIDAD INTRA-GRUPO\t|Prom(STD)\n",
        "|Desviacion STD del Promedio  de los 3 grupos contiguos - Ordenados previamente por DESVSTD, HOMOGENEIDAD INTER-GRUPO similar pesos promedios\t|STD(Prom)\n",
        "|Funcion Objetivo a evaluar para seleccionar que conjunto de grupos son mas homogeneos para asignarlos a un tratamiento, mientras menor sea (Prom(STD)+STD(Prom)) considero los grupos mas Homogeneos para un mismo tratamiento\t|Funcion\n",
        "#4|\tPila de trabajo para asignar tratamientos a los grupos\n",
        "|Numero de grupo extraido\t|Grupo\n",
        "|Desviación STD del peso de los terneros del grupo\t|Std_Peso\n",
        "|Promedio del peso de los terneros del grupo\t|Prom_Peso\n",
        "|ID de tramiento a ser colocado (1,2,3)\t|IDTratamiento\n",
        "#5|Resumen de caractarísticas de los grupos asignados al tratamiento\n",
        "|ID de tramiento a ser colocado (1,2,3)\t|Tratamiento\n",
        "|Promedio de la Desviacion STD de los 3 grupos contiguos - Ordenados previamente por DESVSTD, HOMOGENEIDAD INTRA-GRUPO\t|Prom(STD)\n",
        "|Desviacion STD del Promedio  de los 3 grupos contiguos - Ordenados previamente por DESVSTD, HOMOGENEIDAD INTER-GRUPO similar pesos promedios\t|STD(Prom)\n",
        "|Funcion Objetivo final, mientras menor la suma del valor de esta funcion de los 3 tratamientos mas HOMOGENEIDAD GENERAL DE LA SELECCIÓN\t|Funcion\n",
        "\n",
        "\n",
        "\n",
        "\n",
        "\n",
        "\n",
        "\n",
        "\n",
        "\n",
        "  \n",
        " \n"
      ]
    },
    {
      "metadata": {
        "id": "hBalWLM7j1_d",
        "colab_type": "text"
      },
      "cell_type": "markdown",
      "source": [
        "<font color = \"blue\"> **Según el modelo para el espacio de soluciones**</font><br>\n",
        "  \n",
        "<font color = \"blue\"> **(*)¿Cual es la función objetivo?**</font><br>\n",
        "\n",
        "Aqui nuevamente es importante definir que es homogeneidad o que es lo que consideramos como tal. Lo importante es definir 2 tipos de homogeneidad que hay en este problema: <br>\n",
        "\n",
        "**1. Homgeneidad INTRAGRUPO:** Aquella en la que veremos cuan \" homogeneos\" son los terneros integrantes de un mismo grupo. Para medir el nivel de esta homogeneidad usaremos la desviación estandar de los pesos de los integrantes del grupo. Como tendremos 9 grupos, el *nivel homogeneo interno de cada uno* de los grupos será su *Desviación Estandar de los Pesos de los integerantes del Grupo*, por lo que el indicador final de Homogeneidad Intragurpo será: **PROMEDIO (DESVIACIONES ESTANDAR DE LOS 9 GRUPOS )** <br>\n",
        "\n",
        "$$ IndINTRA = promedio(desviacionstdpesos_i)  i=1,9$$\n",
        "\n",
        "\n",
        "**2. Homgeneidad INTERGRUPO:** Aquella en la que veremos cuan \" homogeneos\" son los 9 grupos seleccionados. Para medir el nivel de esta homogeneidad usaremos la desviación estandar de los pesos de cada grupo. De igual manera al tener 9 grupos, tratamos a esto como un nuevo conjunto de elementos que debemos calcular su similitud, por los que el indicador final de Homogeneidad Intergurpo será: **DESVIACION ESTANDAR ( PROMEDIOS DE PESO DE LOS 9 GRUPOS )** <br>\n",
        "\n",
        "$$ IndINTER = desvstd(promediopesos_i)  i=1,9$$\n",
        "\n",
        "Con esto la funcion objetivo final será al definir:\n",
        "\n",
        "$$ IndTOTAL = IndINTRA + IndINTER $$\n",
        "\n",
        "<br>\n",
        "<font color = \"blue\"> **(*)¿Es un problema de maximización o minimización?**</font><br>(*)¿Es un problema de maximización o minimización?**</font><br>\n",
        "\n",
        "Este será un problema de **MINIMIZACION**, ya que un grupo homogeneo perfecto será aquel cuya DESVSTD de los pesos de sus miembros tienda a CERO, de igual forma un conjunto de 9 grupos perfectamente homogeneos serán aquellos cuyos pesos promedios sean iguales y para que esto suceda, la DESVSTD de los *promedios de peso* de los grupos debe tender a cero.\n",
        "\n"
      ]
    },
    {
      "metadata": {
        "id": "rlnTYgY1j6I2",
        "colab_type": "text"
      },
      "cell_type": "markdown",
      "source": [
        "<font color = \"blue\"> **Diseña un algoritmo para resolver el problema por fuerza bruta**</font><br>"
      ]
    },
    {
      "metadata": {
        "id": "tgrnsC2nkFa8",
        "colab_type": "text"
      },
      "cell_type": "markdown",
      "source": [
        "<font color = \"blue\"> **Calcula la complejidad del algoritmo por fuerza bruta**</font><br>"
      ]
    },
    {
      "metadata": {
        "id": "txbrmLmskReM",
        "colab_type": "text"
      },
      "cell_type": "markdown",
      "source": [
        "<font color = \"blue\"> **(*)Diseña un algoritmo que mejore la complejidad del algortimo por fuerza bruta. Argumenta porque crees que mejora el algoritmo por fuerza bruta**</font><br>"
      ]
    },
    {
      "metadata": {
        "id": "hLrVwt5QkZPD",
        "colab_type": "text"
      },
      "cell_type": "markdown",
      "source": [
        "El algoritmo que he decidido implementar se basa en las tecnicas de **ALGORITMO VORAZ** <br>\n",
        "\n",
        "1. Algortimo Voraz para armado de grupos lo mas homogeneos posibles<br>\n",
        "\n",
        "N=numero de terneros<br>\n",
        "TamanoGrupo = N/9<br>\n",
        "PromedioPesoUniversal = promedio(peso) de todos los registros\n",
        "\n",
        "for i=1 to 9\n",
        ">-Ordenar los registros por el peso de los terneros<br>\n",
        ">for j=1 to N-TamanoGrupo\n",
        ">> -Calcular Desviacion Estandar del atributo peso de los siguientes TamanoGrupo registros y almacenar en cada registro<br>\n",
        "-Calcular Promedio del atributo peso de los siguientes TamanoGrupo registros y almacenar en cada registro<br>\n",
        "\n",
        ">next j<br>\n",
        ">-Buscar el registro con la menor DesvSTD entre el Promedio del Peso de los *TamanoGrupo* versus el *PromedioPesoUniversal*  registros contiguos , marcara el inicio del grupo de TamanoGrupo registros MAS similar al PormedioUniversal<br>\n",
        ">-Extraer (borrar de una tabla e insertar en otra) los TamanoGrupo registros iniciando desde el menor marcado hacia el dataframe de registros agrupados, registrar con numero de grupo = i<br>\n",
        ">-Insertar en tabla de resumen de grupos el registro del grupo, numero, promedio de pesos y desviacion std\n",
        ">-N = N - TamanoGrupo, nuevo numero de registros\n",
        "\n",
        "\n",
        "next i\n",
        "\n",
        "Con esta parte hemos buscado uno a uno el \"MEJOR\" grupo posible, buscando el grupo contiguo (ordenado) con mejor desviación estandar, asegurando la MEJOR HOMOGENEIDAD INTRAGRUPO y cuyo promedio de peso sea el mas cercano al promedio universal para buscar homogeneidad INTERGRUPOS.<br>\n",
        "Hasta aqui tenemos los registros marcados y asignados un GRUPO<br>\n",
        "\n",
        "\n",
        "2. Algortimo Voraz para asignacion de tratamientos a los grupos<br>\n",
        "\n",
        "NT=numero de tratamientos = 3<br>\n",
        "GruposxTratamiento = NT/3 = 3<br>\n",
        "\n",
        "for i=1 to 3\n",
        ">-Ordenar los registros de los grupos por el peso de los terneros<br>\n",
        ">for j=1 to NT-GruposxTratamiento\n",
        ">> -Calcular Desviacion Estandar del atributo peso promedio de los siguientes GruposxTratamiento registros y almacenar en cada registro<br>\n",
        "\n",
        ">next j<br>\n",
        ">-Buscar el registro con la menor DesvSTD de los pesos promedios de los registros contiguos , marcara el inicio del mjor grupo para el primer tratamiento<br>\n",
        ">-Extraer (borrar de un dataframe ye insertar en el otro) los GruposxTratamiento registros iniciando desde el menor marcado hacia el dataframe de registros agrupados, registrar con numero de tratamiento = i<br>\n",
        ">-Insertar en tabla de resumen de tratamientos el registro del grupo, numero, DESVSTD()promedio de pesos) y PROM()desviacion std)\n",
        ">-NT = NT - GruposxTratamiento, nuevo numero de registros\n",
        "\n",
        "next i\n",
        "\n",
        "Con esta parte hemos buscado uno a uno el \"MEJOR\" conjunto de 3 grupos posible, asignando de 3 en 3 a los tratamientos y obteniendo una tabla en donde para cada tratamiento estan asignados sus 3 grupos<br>\n",
        "\n",
        "Finalmente hacemos los JOINS necesarios para marcar a cada registro de Ternero en base a su grupo el tratamiento a colocar<br>\n",
        "\n"
      ]
    },
    {
      "metadata": {
        "id": "m1eyM21Vkabg",
        "colab_type": "code",
        "colab": {}
      },
      "cell_type": "code",
      "source": [
        ""
      ],
      "execution_count": 0,
      "outputs": []
    },
    {
      "metadata": {
        "id": "eGDB4K6uk1iN",
        "colab_type": "text"
      },
      "cell_type": "markdown",
      "source": [
        "<font color = \"blue\"> **(*)Calcula la complejidad del algoritmo **</font><br>"
      ]
    },
    {
      "metadata": {
        "id": "NhpTh_BPk1ms",
        "colab_type": "text"
      },
      "cell_type": "markdown",
      "source": [
        "Respuesta"
      ]
    },
    {
      "metadata": {
        "id": "3M6QjTsSkmYe",
        "colab_type": "text"
      },
      "cell_type": "markdown",
      "source": [
        "<font color = \"blue\"> **Según el problema (y tenga sentido), diseña un juego de datos de entrada aleatorios**</font><br>"
      ]
    },
    {
      "metadata": {
        "id": "sJ-N2etjkyWc",
        "colab_type": "code",
        "colab": {}
      },
      "cell_type": "code",
      "source": [
        "#Crear los df de trabajo en el algoritmo\n",
        "#las definiciones de estas estructuras fueron descritas en la celda de estructura de datos\n",
        "df0 = pd.DataFrame(columns=[\"ID\",\t\"Peso\",\t\"Tipo\"]) #Datos originales\n",
        "df1 = pd.DataFrame(columns=[\"ID\",\t\"Peso\",\t\"DesvStd\",\t\"PromGrupo\",\t\"PromUniv\",\t\"DesvVsUniv\",\t\"Funcion\"])\n",
        "df2 = pd.DataFrame(columns=[\"IDTratamiento\",\t\"ID\",\t\"Peso\",\t\"Grupo\"])\n",
        "df3 = pd.DataFrame(columns=[\"Grupo\", \"Contador\",\t\"STD_PESO\",\t\"PROM_PESO\",\t\"PromSTD\", \"STDProm\",\t\"funcion\"])\n",
        "df4 = pd.DataFrame(columns=[\"Grupo\",\t\"Contador\",\t\"Std_Peso\",\t\"Prom_Peso\",\t\"Tratamiento\"])\n",
        "df5 = pd.DataFrame(columns=[\"Tratamiento\",\t\"PromSTD\",\t\"STDProm\",\t\"Funcion\"])\n",
        "\n",
        "def CargaDatosTerneros(N):\n",
        "    \n",
        "    tipo = [\"H\", \"M\"]\n",
        "    col_id =  list(range(1, N+1)) #ID Ternero\n",
        "    col_peso = list( np.around( np.random.normal( 37, 2.1, N ), 1 ) ) #Peso del ternero segun datos dados\n",
        "    col_tipo = list(np.random.choice(tipo, N, p=[0.5, 0.5])) #Genero del Ternero\n",
        "\n",
        "    df = pd.DataFrame({\"ID\":col_id,  \"Peso\":col_peso, \"Tipo\": col_tipo}, index=col_id) #DataFrame #0, ver descripcion columnas en la celda que describe la estructura de datos\n",
        "    return df\n",
        "\n",
        "#Cargar en el dataframe de trabajo inicial, alli se aplicara el primer algoritmo voraz\n",
        "#df0 = CargaDatosTerneros(27)\n",
        "#df0.head(5)\n"
      ],
      "execution_count": 0,
      "outputs": []
    },
    {
      "metadata": {
        "id": "d9-u3LIj-rk6",
        "colab_type": "text"
      },
      "cell_type": "markdown",
      "source": [
        "<font color = \"blue\"> **Aplica el algoritmo al juego de datos generado**</font><br>"
      ]
    },
    {
      "metadata": {
        "id": "X4DjfHaifcVn",
        "colab_type": "code",
        "colab": {
          "base_uri": "https://localhost:8080/",
          "height": 343
        },
        "outputId": "99ee147c-f046-4d35-c04e-d564fe4b04b6"
      },
      "cell_type": "code",
      "source": [
        "\n",
        "def AlgoritmoVorazCrearGrupos(NT):\n",
        "      \n",
        "        global df0\n",
        "        global df1\n",
        "        global df2\n",
        "        global df3\n",
        "\n",
        "        Peso1 = 0.5       #Para ponderar la relevacia de los dos indicadores, para el ejemplo doy igual relevancia (peso) al indicador INTRA e INTER\n",
        "        Peso2 = 1-Peso1   \n",
        "\n",
        "        NumGrupos = 9 #Dato\n",
        "        NElementos = NT #Dato\n",
        "        df0 = CargaDatosTerneros(NElementos) #Genero datos aleatorios y cargo el primer dataframe\n",
        "        \n",
        "        df1 = pd.DataFrame(columns=[\"ID\",\t\"Peso\",\t\"DesvStd\",\t\"PromGrupo\",\t\"PromUniv\",\t\"DesvVsUniv\",\t\"Funcion\"])\n",
        "        df1 = pd.concat([df1,df0])\n",
        "\n",
        "        df2 = pd.DataFrame(columns=[\"IDTratamiento\",\t\"ID\",\t\"Peso\",\t\"Grupo\"])  #df con registros y grupos\n",
        "        df3 = pd.DataFrame(columns=[\"Grupo\",\"Contador\",\t\"STD_PESO\",\t\"PROM_PESO\",\t\"PromSTD\", \"STDProm\",\t\"funcion\"])\n",
        "       \n",
        "        PromedioUniversoinicial = df0[\"Peso\"].mean() #Calculo promedio de la poblacion, me sirve como referencia para seleccionar grupos mas homogeneos\n",
        "        TamanoGrupo = int(round(NElementos / NumGrupos))         #Mejor Tamaño Grupo Inicial\n",
        "        #print (\"Tamaño Inicial Grupo= \",TamanoGrupo )\n",
        "        contadorRegistrosExtraidos = 0\n",
        "        #Ordeno los registros para asegurar DSEVSTD optimas \n",
        "        df1 = df1.sort_values(by = \"Peso\")\n",
        "        df1=df1.reset_index()\n",
        "        df1=df1.drop([\"index\",\"Tipo\"],axis=1) #elimino columnas no usadas\n",
        "        for iGrupo in range(1,NumGrupos+1):\n",
        "          minGrupo = 999999\n",
        "          minIndex = -1\n",
        "          #print (\"Grupo: \" , iGrupo)\n",
        "          for jBarrerGrupo in range(0,NElementos - TamanoGrupo + 1 ): #Calcular columnas calculadas DataSet #1\n",
        "            #print (\"jBarrerGrupo: \" , jBarrerGrupo)\n",
        "            df1.iloc[jBarrerGrupo,5]=df1.iloc[jBarrerGrupo:jBarrerGrupo+TamanoGrupo][\"Peso\"].mean() #actualizar columna PromGrupo\n",
        "            df1.iloc[jBarrerGrupo,0]=df1.iloc[jBarrerGrupo:jBarrerGrupo+TamanoGrupo][\"Peso\"].std() #actualizar columna DesvStd\n",
        "            df1.iloc[jBarrerGrupo,6]=PromedioUniversoinicial #actualizar columna PromUniv\n",
        "            df1.iloc[jBarrerGrupo,1]= np.std([df1.iloc[jBarrerGrupo,5] , df1.iloc[jBarrerGrupo,6]],ddof=1) #actualizar la columna DesvVsUniv\n",
        "            df1.iloc[jBarrerGrupo,2]= df1.iloc[jBarrerGrupo,0]*Peso1 + df1.iloc[jBarrerGrupo,1]*Peso2 #actualizar la columna funcion\n",
        "            if df1.iloc[jBarrerGrupo,2]<minGrupo: #df1.index[df1[\"Funcion\"]==min(df1[\"Funcion\"])].tolist()\n",
        "              minGrupo = df1.iloc[jBarrerGrupo,2]\n",
        "              minIndex = jBarrerGrupo    \n",
        "          dfTemp = df1.iloc[minIndex:minIndex+TamanoGrupo,[3,4]] #extraer solo las columnas ID y Peso\n",
        "          dfTemp[\"Grupo\"] = iGrupo\n",
        "          dfTemp[\"IDTratamiento\"] = 0\n",
        "          df2 = pd.concat([df2,dfTemp])\n",
        "          #Insercion completa en DF2\n",
        "\n",
        "          #Insertar en el DataFrame#3 registros resumen del grupo\n",
        "          df3Temp = pd.DataFrame(columns=[\"Grupo\",\"Contador\",\t\"STD_PESO\",\t\"PROM_PESO\",\t\"PromSTD\", \"STDProm\",\t\"funcion\"],index=[iGrupo])\n",
        "          df3Temp.loc[iGrupo,\"Grupo\"]=iGrupo\n",
        "          df3Temp.loc[iGrupo,\"Contador\"]=TamanoGrupo\n",
        "          df3Temp.loc[iGrupo,\"STD_PESO\"]=df1.iloc[minIndex,0] #columna desvSTD del grupo extraido\n",
        "          df3Temp.loc[iGrupo,\"PROM_PESO\"]=df1.iloc[minIndex,5] #columna Promedio del grupo extraido\n",
        "          df3Temp.loc[iGrupo,\"PromSTD\"]=-1 #Seran calculadas para el algoritmo Voraz de asignacion de grupo\n",
        "          df3Temp.loc[iGrupo,\"STDProm\"]=-1 #Seran calculadas para el algoritmo Voraz de asignacion de grupo\n",
        "          df3Temp.loc[iGrupo,\"funcion\"]=-1 #Seran calculadas para el algoritmo Voraz de asignacion de grupo\n",
        "\n",
        "          #print(\"DF3Temp:\",df3Temp)\n",
        "          df3 = pd.concat([df3,df3Temp]) #Insertar registro resumen de grupos\n",
        "         \n",
        "          \n",
        "          #print(\"Borrando registros desde=\",minIndex,\":hasta=\",minIndex+TamanoGrupo)\n",
        "          df1=df1.drop(index=df1.index[df1.iloc[minIndex:minIndex+TamanoGrupo].index],axis=0)\n",
        "          df1=df1.reset_index()\n",
        "          df1=df1.drop([\"index\"],axis=1) \n",
        "          contadorRegistrosExtraidos = contadorRegistrosExtraidos + TamanoGrupo\n",
        "          \n",
        "          #Actualizar infor de indices\n",
        "          NumGrupos = NumGrupos - 1\n",
        "          NElementos = NElementos - TamanoGrupo\n",
        "          if NumGrupos>0:\n",
        "              TamanoGrupo = int(round(NElementos / NumGrupos))\n",
        "          #print(\"Extraidos:\",contadorRegistrosExtraidos,\":TamG=\",TamanoGrupo)\n",
        "            \n",
        "            \n",
        "def AlgortimoVorazParaTratamiento(NT):\n",
        "\n",
        "  global df3\n",
        "  global df4\n",
        "  \n",
        "  \n",
        "  AlgoritmoVorazCrearGrupos(NT)\n",
        "  #DataFrame2 creado con asignacion de grupos en este punto, falta asignar tratamiento, y dataframe #3 de grupos listo\n",
        "  #Ordeno el DataFrame #3 en base a la DESV.STD interna de los pesos de los terneros del grupo, asi aseguro menor prom(desv.std) para encontrar mejores grupos para el tratamiento\n",
        "  df3 = df3.sort_values(by = \"STD_PESO\")\n",
        "  df3=df3.reset_index()\n",
        "  df3=df3.drop([\"index\"],axis=1) #elimino columnas no usadas\n",
        "  \n",
        "  df4 = pd.DataFrame(columns=[\"Grupo\",\t\"Contador\",\t\"Std_Peso\",\t\"Prom_Peso\",\t\"Tratamiento\"])\n",
        " \n",
        "  NumGrupos = 9\n",
        "  NumGruposXTratamiento = 3\n",
        " \n",
        "  #Inicio algoritmo Voraz, buscando la mejor combinacion de 3 grupos para el Trattamiento 1, y asi sucesivamente\n",
        "  for iTratamiento in range(1,4):\n",
        "    MinTratamiento = 99999\n",
        "    minIndex = -1\n",
        "    for jBarrerGrupo in range(0,NumGrupos - (NumGruposXTratamiento * iTratamiento)+1 ): \n",
        "      df3.iloc[jBarrerGrupo,4]=df3.iloc[jBarrerGrupo:jBarrerGrupo+NumGruposXTratamiento][\"STD_PESO\"].mean() #actualizar columna PromSTD\n",
        "      df3.iloc[jBarrerGrupo,5]=df3.iloc[jBarrerGrupo:jBarrerGrupo+NumGruposXTratamiento][\"PROM_PESO\"].std() #actualizar columna DesvProm\n",
        "      df3.iloc[jBarrerGrupo,6]= df3.iloc[jBarrerGrupo,4] + df3.iloc[jBarrerGrupo,5] #actualizar la columna funcion\n",
        "      if df3.iloc[jBarrerGrupo,6]<MinTratamiento: \n",
        "        MinTratamiento = df3.iloc[jBarrerGrupo,6]\n",
        "        minIndex = jBarrerGrupo    \n",
        "      \n",
        "    #print (\"Minimo: \", MinTratamiento, \" en index:\",minIndex )\n",
        "    \n",
        "    for iGrupo in range(0,3):\n",
        "      #Insertar en el DataFrame#3 registros resumen del grupo\n",
        "      df4Temp = pd.DataFrame(columns=[\"Grupo\",\t\"Contador\",\t\"Std_Peso\",\t\"Prom_Peso\",\t\"Tratamiento\"],index=[iGrupo])\n",
        "      df4Temp.loc[iGrupo,\"Grupo\"]=df3.iloc[minIndex+iGrupo,0]\n",
        "      df4Temp.loc[iGrupo,\"Contador\"]=NumGruposXTratamiento\n",
        "      df4Temp.loc[iGrupo,\"Std_Peso\"]=df3.iloc[minIndex+iGrupo,2] #columna desvSTD del grupo extraido\n",
        "      df4Temp.loc[iGrupo,\"Prom_Peso\"]=df3.iloc[minIndex+iGrupo,3] #columna Promedio del grupo extraido\n",
        "      df4Temp.loc[iGrupo,\"Tratamiento\"]=iTratamiento\n",
        "      df4 = pd.concat([df4,df4Temp]) #Insertar registro resumen de grupos\n",
        "      \n",
        "    #print(\"Borrando registros desde=\",minIndex,\":hasta=\",minIndex+NumGruposXTratamiento)\n",
        "    df3=df3.drop(index=df3.index[df3.iloc[minIndex:minIndex+NumGruposXTratamiento].index],axis=0)\n",
        "    df3=df3.reset_index()\n",
        "    df3=df3.drop([\"index\"],axis=1) \n",
        "\n",
        "\n",
        "\n",
        "########################################################################\n",
        "#Llamada Principal para solucion\n",
        "\n",
        "N_Terneros = 362\n",
        "AlgortimoVorazParaTratamiento(N_Terneros)\n",
        "\n",
        "#Actualizo el DF2 la columna tratamiento JOIN por la columna GRUPO\n",
        "#y alli obtenemos la solucion requerida: DF2: Que tratamiento colocar a cada ID ternero que esta asignado a un grupo\n",
        "tempjoin = df2.merge(df4,on=\"Grupo\")\n",
        "tempjoin[\"IDTratamiento\"] = tempjoin[\"Tratamiento\"]\n",
        "\n",
        "df2 = tempjoin.drop([\"Contador\",\"Std_Peso\",\"Prom_Peso\",\"Tratamiento\"],axis=1) #Borro columnas extras del JOIN\n",
        "#Solucion final: Grupo asignado, ID Ternero, ID Tratamiento, Peso del Ternero\n",
        "df2.sample(10)\n",
        "\n",
        "\n"
      ],
      "execution_count": 192,
      "outputs": [
        {
          "output_type": "execute_result",
          "data": {
            "text/html": [
              "<div>\n",
              "<style scoped>\n",
              "    .dataframe tbody tr th:only-of-type {\n",
              "        vertical-align: middle;\n",
              "    }\n",
              "\n",
              "    .dataframe tbody tr th {\n",
              "        vertical-align: top;\n",
              "    }\n",
              "\n",
              "    .dataframe thead th {\n",
              "        text-align: right;\n",
              "    }\n",
              "</style>\n",
              "<table border=\"1\" class=\"dataframe\">\n",
              "  <thead>\n",
              "    <tr style=\"text-align: right;\">\n",
              "      <th></th>\n",
              "      <th>Grupo</th>\n",
              "      <th>ID</th>\n",
              "      <th>IDTratamiento</th>\n",
              "      <th>Peso</th>\n",
              "    </tr>\n",
              "  </thead>\n",
              "  <tbody>\n",
              "    <tr>\n",
              "      <th>64</th>\n",
              "      <td>2</td>\n",
              "      <td>61</td>\n",
              "      <td>2</td>\n",
              "      <td>37.4</td>\n",
              "    </tr>\n",
              "    <tr>\n",
              "      <th>240</th>\n",
              "      <td>7</td>\n",
              "      <td>269</td>\n",
              "      <td>2</td>\n",
              "      <td>34.1</td>\n",
              "    </tr>\n",
              "    <tr>\n",
              "      <th>39</th>\n",
              "      <td>1</td>\n",
              "      <td>339</td>\n",
              "      <td>1</td>\n",
              "      <td>37.4</td>\n",
              "    </tr>\n",
              "    <tr>\n",
              "      <th>359</th>\n",
              "      <td>9</td>\n",
              "      <td>106</td>\n",
              "      <td>3</td>\n",
              "      <td>42.9</td>\n",
              "    </tr>\n",
              "    <tr>\n",
              "      <th>176</th>\n",
              "      <td>5</td>\n",
              "      <td>22</td>\n",
              "      <td>1</td>\n",
              "      <td>35.7</td>\n",
              "    </tr>\n",
              "    <tr>\n",
              "      <th>221</th>\n",
              "      <td>6</td>\n",
              "      <td>237</td>\n",
              "      <td>2</td>\n",
              "      <td>38.9</td>\n",
              "    </tr>\n",
              "    <tr>\n",
              "      <th>63</th>\n",
              "      <td>2</td>\n",
              "      <td>181</td>\n",
              "      <td>2</td>\n",
              "      <td>37.4</td>\n",
              "    </tr>\n",
              "    <tr>\n",
              "      <th>168</th>\n",
              "      <td>5</td>\n",
              "      <td>211</td>\n",
              "      <td>1</td>\n",
              "      <td>35.5</td>\n",
              "    </tr>\n",
              "    <tr>\n",
              "      <th>334</th>\n",
              "      <td>9</td>\n",
              "      <td>127</td>\n",
              "      <td>3</td>\n",
              "      <td>33.5</td>\n",
              "    </tr>\n",
              "    <tr>\n",
              "      <th>261</th>\n",
              "      <td>7</td>\n",
              "      <td>125</td>\n",
              "      <td>2</td>\n",
              "      <td>34.8</td>\n",
              "    </tr>\n",
              "  </tbody>\n",
              "</table>\n",
              "</div>"
            ],
            "text/plain": [
              "    Grupo   ID IDTratamiento  Peso\n",
              "64      2   61             2  37.4\n",
              "240     7  269             2  34.1\n",
              "39      1  339             1  37.4\n",
              "359     9  106             3  42.9\n",
              "176     5   22             1  35.7\n",
              "221     6  237             2  38.9\n",
              "63      2  181             2  37.4\n",
              "168     5  211             1  35.5\n",
              "334     9  127             3  33.5\n",
              "261     7  125             2  34.8"
            ]
          },
          "metadata": {
            "tags": []
          },
          "execution_count": 192
        }
      ]
    },
    {
      "metadata": {
        "id": "ZftWsEj-Ie6y",
        "colab_type": "text"
      },
      "cell_type": "markdown",
      "source": [
        "<font color = \"blue\"> **(*)Calcula la complejidad del algoritmo **</font>\n"
      ]
    },
    {
      "metadata": {
        "id": "6RDMZoyGIro5",
        "colab_type": "text"
      },
      "cell_type": "markdown",
      "source": [
        "La complejidad del algoritmo propuesto llega a ser O(n^2). Debido a que en el peor de los casos se tiene 2 for's anidados.\n"
      ]
    },
    {
      "metadata": {
        "colab_type": "text",
        "id": "J9tzrkC05kt0"
      },
      "cell_type": "markdown",
      "source": [
        "# **Problema 2:**\n",
        "\n",
        ">2. Organizar los horarios de partidos de La Liga <BR>\n",
        "\n",
        "## Descripcion\n",
        "\n",
        "Desde la La Liga de fútbol profesional se pretende organizar los horarios de los partidos de liga de de cada jornada. Se conocen algunos datos que nos deben llevar a diseñar un algoritmo que realice la asignación de los partidos a los horarios que maximice la audiencia.\n",
        "\n",
        "Los horarios disponibles se conocen a priori y son los siguientes:\n",
        "\n",
        "Dia | Horario\n",
        "--- | ---\n",
        "Viernes | 20\n",
        "Sabado | 12, 16, 18, 20\n",
        "Domingo | 12, 16, 18, 20\n",
        "Lunes | 20\n",
        "\n",
        "### Restricciones\n",
        "\n",
        "* En primer lugar se clasifican los equipos en tres categorías según el numero de seguidores que tienen relación directa con la audiencia. Hay 4 equipos en la categoría A, 10 equipos de categoría B y 6 equipos de categoría C.\n",
        "\n",
        "* Se conoce estadísticamente la audiencia que genera cada partido según los equipos que se enfrentan y en horario de sábado a las 20h (el mejor en todos los casos)\n",
        "\n",
        ". | Categoria A | Categoria B | Categoria C\n",
        "--- | --- | --- | ---\n",
        "Categoria A | 2 millones | 1.3 millones | 1 millon\n",
        "Categoria B | . | 0.9 millones | 0.75 millones\n",
        "Categoria C | . | . | 0.47 millon\n",
        "\n",
        "* Si el horario del partido no se realiza a las 20 horas del sábado se sabe que se reduce según los coeficientes de la siguiente tabla:\n",
        "\n",
        ". | Viernes | Sabado | Domingo | Lunes\n",
        "--- | --- | --- | --- | ---\n",
        "12 h | - | 0.55 | 0.45 | -\n",
        "16 h | - | 0.7 | 0.75 | -\n",
        "18 h | - | 0.8 | 0.85 | -\n",
        "20 h | 0.4 | 1 | 1 | 0.4\n",
        "\n",
        "* Debemos asignar obligatoriamente siempre un partido el viernes y un partido el lunes\n",
        "\n",
        "\n"
      ]
    },
    {
      "metadata": {
        "colab_type": "text",
        "id": "kr7htWqO5kt4"
      },
      "cell_type": "markdown",
      "source": [
        "<font color = \"blue\"> **(*)¿Cuantas posibilidades hay sin tener en cuenta las restricciones?**</font><br>\n",
        "\n",
        "Partiendo de la premisa que siempre 1 quipo juega un solo partido en una fecha (jornada viernes-lunes) y que el torneo es todos contra todos, las posibilidades serían el numero de quipos (N) armados de 2 en 2 por partido, por tanto el numero total de posibilidades es la multiplicacion de las COMBINATORIAS de (20,2) x (18,2) x ... x (2,2) el total dividido por 2 y finalmente multiplicado por las 19 fechas. Nuevamente un numero que cataloga al problema de tipo factorial.\n",
        "\n",
        "<font color = \"blue\"> **¿Cuantas posibilidades hay teniendo en cuenta todas las restricciones.**</font><br>\n",
        "\n",
        "\n"
      ]
    },
    {
      "metadata": {
        "colab_type": "text",
        "id": "Yv1I6sZI5kt-"
      },
      "cell_type": "markdown",
      "source": [
        "<font color = \"blue\"> **Modelo para el espacio de soluciones**</font> <br>\n",
        "\n",
        "<font color = \"blue\"> **(*) ¿Cual es la estructura de datos que mejor se adapta al problema? Argumentalo.(Es posible que hayas elegido una al principio y veas la necesidad de cambiar, arguentalo)**</font>\n"
      ]
    },
    {
      "metadata": {
        "colab_type": "text",
        "id": "BKpFyXiF5kt_"
      },
      "cell_type": "markdown",
      "source": [
        "Para encontrar un algoritmo a resolver el problema, decidi tomar la siguiente estrateguia: <br>\n",
        "\n",
        "1) Construir los partidos de forma tal que se garanticen las 19 fechas de todos contra todos sin repetir las partidas, para esto use la dsitribución ROUND-ROBIN y usando nombres de quipos genéricos, es decir, aun desconozco quienes serán los equipos Eq1, Eq2, Eq3 <br>\n",
        "\n",
        "2) Una vez construido el calendario de juegos con equipos genericos, el problema a optimizar es asignar quien es cada equipo, o mejor dicho, que **CATEGORIA** debe tener cada equipo EQ1,EQ2,...<br>\n",
        "\n",
        "Con esto el problema se convierte en encontrar la asignación de **CATEGORIAS** a los equipos que generen la **MAXIMA AUDIENCIA POSIBLE**<br>\n",
        "\n",
        "Para esto las estructuras básicas utilizadas seran:<br>\n",
        "\n",
        "1. Dataframes: Para almacenar la informacion dato inicial Equipos, Horarios, AudienciasxCategoria y Partidas<br>\n",
        "2. Cadena de Caracteres: Una cadena de 20 caracteres que contendra las categorias a asignar a los 20 Equipos<br>\n",
        "\n",
        "CADENA DE CATEGORIAS:<br>\n",
        "Para entender esta cadena pongo un ejemplo: \" AAAABBBBBBBBBBCCCCCC \", nos dice que el EQ1 es A, el EQ2 es A, y asi cada caracter para cada EQUIPO. Aqui debemos siempre validar  la **RESTRICCION** dada, 4 \"A\", 10 \"B\" y 6 \"C\".\n"
      ]
    },
    {
      "metadata": {
        "colab_type": "text",
        "id": "_fWzuapD5kuE"
      },
      "cell_type": "markdown",
      "source": [
        "<font color = \"blue\"> **Según el modelo para el espacio de soluciones**</font><br>\n",
        "<font color = \"blue\"> **(*)¿Cual es la función objetivo?**</font><br>\n",
        "\n",
        "La funcion objetivo será la SUMATORIA DE LA AUDIENCIA NETA = SUMATORIA DE AUDIENCIAS DE CADA PARTIDO ACORDE A SUS CATEGORIAS x FACTOR DE HORARIO\n",
        "\n",
        "<font color = \"blue\"> **(*)¿Es un problema de maximización o minimización?**</font><br>\n",
        "Es un problema de MAXIMIZACION ya que debemos intentar obtener la MAXIMA AUDIENCIA NETA POSIBLE"
      ]
    },
    {
      "metadata": {
        "colab_type": "text",
        "id": "lVF5o9pG5kuK"
      },
      "cell_type": "markdown",
      "source": [
        "<font color = \"blue\"> **Diseña un algoritmo para resolver el problema por fuerza bruta</font> **"
      ]
    },
    {
      "metadata": {
        "colab_type": "text",
        "id": "1gPRZ70z5kuP"
      },
      "cell_type": "markdown",
      "source": [
        "<font color = \"blue\"> **Calcula la complejidad del algoritmo por fuerza bruta**</font>"
      ]
    },
    {
      "metadata": {
        "colab_type": "text",
        "id": "L24uhkKC5kuS"
      },
      "cell_type": "markdown",
      "source": [
        "<font color = \"blue\"> **(*)Diseña un algoritmo que mejore la complejidad del algortimo por fuerza bruta. Argumenta porque crees que mejora el algoritmo por fuerza bruta**</font>\n"
      ]
    },
    {
      "metadata": {
        "colab_type": "text",
        "id": "DXTXzvgi5kuT"
      },
      "cell_type": "markdown",
      "source": [
        "La tecnica que he decisidido implementar para este problema es un **ALGORITMO GENETICO**. Considero que se adapta perfectamente a este tipo de problema ya que pequeñas modificaciones en el orden en el cual se enfrentan los equipos generan mejores audiencias. Con esto la generación aleatoria de una poblacion inicial de la cadena de 20 caracteres que representan las categorias de los Equipos se presta a generar las pequeñas mutaciones que van mejorando la audiencia progresivamente hasta alcanzar puntos de estabilidad.\n"
      ]
    },
    {
      "metadata": {
        "id": "zm0n22faUtib",
        "colab_type": "text"
      },
      "cell_type": "markdown",
      "source": [
        "Algoritmo Propuesto:\n",
        "\n",
        "1) GenerarPartidas #round robin fijo con equipos genericos EQ1, EQ2,..EQ20 <br>\n",
        "2) DefinirParametrosgenerales #Numero de generaciones que se usaran, Numero de Hijos por mutacion, Numero de hijos aleatorios<br>\n",
        "3) DefinirCriterioPararGeneraciones # Numero de generaciones en las cuales ya no se obtienen mejoras<br>\n",
        "4) CrearPoblacionInicialCromosomas #Cadenas de 20 caracteres aleatorias<br>\n",
        "5) Inicializar contadores de generaciones <br>\n",
        "\n",
        "\n",
        "do<br>\n",
        "\n",
        "> 6) EscogerMejoresCromosomas #calcular audiencias netas<br>\n",
        "7) CrearNuevosHijosPorMutacion<br>\n",
        "8) CrearNuevosHijosAleatorios<br>\n",
        "9) CalcularMayorAudienciaEncontrada<br>\n",
        "\n",
        "\n",
        "\n",
        "> Si NuevaMayorAudiencia supera AudienciaMayorAnterior entonces\n",
        "             \n",
        "             GrabarNuevaMayorAudiencia\n",
        "             \n",
        " > Casocontrario\n",
        "             \n",
        "             GeneracionesEstables += 1\n",
        " \n",
        "             \n",
        "> ContadorGeneracion += 1\n",
        "\n",
        "Loop Until GeneracionesEstables alcnzadas O GeneracionesLimite alcanzadas\n",
        "\n",
        "\n",
        "\n"
      ]
    },
    {
      "metadata": {
        "colab_type": "code",
        "id": "-nd-r4vd5kuU",
        "colab": {}
      },
      "cell_type": "code",
      "source": [
        ""
      ],
      "execution_count": 0,
      "outputs": []
    },
    {
      "metadata": {
        "colab_type": "text",
        "id": "HxRBBez05kuY"
      },
      "cell_type": "markdown",
      "source": [
        "<font color = \"blue\"> **(*)Calcula la complejidad del algoritmo**</font>\n",
        "\n",
        "La complejidad del **ALGORITMO GENETICO** propuesto es del orden O (n log n), ya que en el peor de los escenarios se manejarán un ciclo que controla la generación de las nuevas combinaciones y la aplicación en ciclos del calculo de la AUDIENCIA generada por cada nuevo \"cromosoma\" en un calendario previamente ya construido y definitivamente dependera el LIMITE de generaciones y de mutaciones en cada generación que establezcamos\n",
        "\n",
        "\n"
      ]
    },
    {
      "metadata": {
        "colab_type": "text",
        "id": "huPHULFO5kuc"
      },
      "cell_type": "markdown",
      "source": [
        "<font color = \"blue\"> **Según el problema (y tenga sentido), diseña un juego de datos de entrada aleatorios**</font>"
      ]
    },
    {
      "metadata": {
        "colab_type": "text",
        "id": "S_PDCWkJ5kuc"
      },
      "cell_type": "markdown",
      "source": [
        "Para la solucion propuesta no se requiere la generación de Datos de Entrada aleatorios, ya que estan definidos os 20 equipo y será parte del algoritmo la generación inicial aleatoria de la combinacion de categorias propuesta."
      ]
    },
    {
      "metadata": {
        "colab_type": "text",
        "id": "mACYHgHf5kug"
      },
      "cell_type": "markdown",
      "source": [
        "<font color = \"blue\">**Aplica el algoritmo al juego de datos generado**</font>"
      ]
    },
    {
      "metadata": {
        "id": "wxwAwrt0f4hR",
        "colab_type": "text"
      },
      "cell_type": "markdown",
      "source": [
        "Por temas de tiempo, el **ALGORITMO FUE IMPLEMENTADO EN EXCEL**, por favor mirar adjuntos.<br>\n",
        "Se ha alcanzado un ESCENARIO de combinacion de categorias optimo = \"ACCCBBBCCABABBBBBCBA\", con la cual se alcanza una audiencia de 135,32 millones de audiencia neta"
      ]
    },
    {
      "metadata": {
        "id": "zS1hllVggmeq",
        "colab_type": "text"
      },
      "cell_type": "markdown",
      "source": [
        "Option Explicit\n",
        "Const numEquipos As Integer = 20\n",
        "\n",
        "\n",
        "\n",
        "Sub GenerarPartidos()\n",
        "    'Algoritmo Round-Robin para generar todos los partidos de las 19 fechas\n",
        "    'Que asegura un partido por cada fecha para cada equipo\n",
        "    'Genera los registros iniciales del DataSet #4\n",
        "    \n",
        "    Dim colv1 As Integer\n",
        "    Dim colv2 As Integer\n",
        "    Dim NumPartidosxFecha As Integer\n",
        "    Dim NumFechas As Integer\n",
        "    \n",
        "    Dim numf As Integer\n",
        "    Dim numP As Integer\n",
        "    Dim fila As Integer\n",
        "    \n",
        "    Dim i As Integer\n",
        "    Dim t1 As Integer\n",
        "    Dim t2 As Integer\n",
        "    \n",
        "    colv1 = 15 'Para Equipo1\n",
        "    colv2 = 16 'Para Equipo2\n",
        "    \n",
        "    NumPartidosxFecha = Int(numEquipos / 2)\n",
        "    NumFechas = numEquipos - 1\n",
        "    numf = 1\n",
        "    numP = 1\n",
        "    fila = 3\n",
        "    For i = 1 To 190\n",
        "        'Primera fecha es setup inicial\n",
        "        If numf = 1 Then\n",
        "            t1 = numP\n",
        "            t2 = numEquipos + 1 - numP\n",
        "            Cells(fila, 14) = numf\n",
        "            Cells(fila, colv1) = t1\n",
        "            Cells(fila, colv2) = t2\n",
        "        End If\n",
        "        \n",
        "        If numf > 1 Then\n",
        "            Cells(fila, 14) = numf\n",
        "            \n",
        "            t2 = Cells(fila - NumPartidosxFecha, colv2) - 1 'Rota en base a registros previos\n",
        "            t2 = IIf(t2 < 2, numEquipos, t2) 'Asegura rotacion ...19,20,1,2...\n",
        "            Cells(fila, colv2) = IIf(t2 < 2, numEquipos, t2)\n",
        "            \n",
        "            If numP = 1 Then 'El primer partido siempre Eq1, equipo pivot\n",
        "                t1 = 1\n",
        "            Else\n",
        "                If numP = 2 Then 'Asegura rotacion ...19,20,1,2...\n",
        "                    t1 = Cells(fila - 1, colv2) + 1\n",
        "                Else\n",
        "                    t1 = Cells(fila - 1, colv1) + 1\n",
        "                    t1 = IIf(t1 > numEquipos, 2, t1)\n",
        "                End If\n",
        "            End If\n",
        "            Cells(fila, colv1) = t1\n",
        "        End If\n",
        "        \n",
        "        numP = numP + 1\n",
        "        If numP = NumPartidosxFecha + 1 Then 'Termino la fecha\n",
        "            numP = 1\n",
        "            numf = numf + 1\n",
        "        End If\n",
        "        Cells(fila, 17) = \"\" 'La etiqueta sera cargada con el mejor escenario encontrado\n",
        "        \n",
        "        fila = fila + 1\n",
        "    Next i\n",
        "End Sub\n",
        "Sub ColocarEtiquetasPartidas()\n",
        "    Dim i As Integer\n",
        "    Dim fila As Integer\n",
        "    'Actualizar etiquetas de partidos en en Dataset#4\n",
        "    fila = 3\n",
        "    For i = 1 To (numEquipos - 1) * Int(numEquipos / 2)\n",
        "        Cells(fila + i - 1, 17).FormulaR1C1 = \"=VLOOKUP(RC[-2],R3C1:R22C2,2,FALSE) & \"\" vs \"\"&VLOOKUP(RC[-1],R3C1:R22C2,2,FALSE)\"\n",
        "    Next i\n",
        "End Sub\n",
        "\n",
        "Function CalculaAudienciaCamposOrdenarPartidos() As Double\n",
        "    Dim fila As Integer\n",
        "    Dim i As Integer\n",
        "    Dim filaNumHorario As Integer\n",
        "    Dim aN As Double\n",
        "    \n",
        "    'Asume que el DataSet#1 esta lleno con datos de categorias\n",
        "    'Ejecuta los joins necesarios para tener audiencias brutas\n",
        "    fila = 3\n",
        "    For i = 1 To 190\n",
        "        'Join con dataset#1 para generar Categoria Partido\n",
        "        Cells(fila + i - 1, 18).FormulaR1C1 = \"=VLOOKUP(RC[-3],R3C1:R22C3,3,FALSE) & VLOOKUP(RC[-2],R3C1:R22C3,3,FALSE)\"\n",
        "        Cells(fila + i - 1, 18).Value = Cells(fila + i - 1, 18).Value\n",
        "        'Join con dataset#2 para traer audiencia bruta\n",
        "        Cells(fila + i - 1, 19).FormulaR1C1 = \"=VLOOKUP(RC[-1],R3C5:R11C6,2,FALSE)\"\n",
        "        Cells(fila + i - 1, 19).Value = Cells(fila + i - 1, 19).Value\n",
        "    Next i\n",
        "\n",
        "    'Ordenar el dataset#4 por las columnas\n",
        "    '1) Fecha ascendente\n",
        "    '2) Audiencia bruta descendente\n",
        "    \n",
        "    Range(\"S2\").Select\n",
        "    Range(Selection, Selection.End(xlToLeft)).Select\n",
        "    Range(Selection, Selection.End(xlDown)).Select\n",
        "    ActiveWorkbook.Worksheets(\"Problema_2_Solucion\").Sort.SortFields.Clear\n",
        "    ActiveWorkbook.Worksheets(\"Problema_2_Solucion\").Sort.SortFields.Add2 Key:=Range(\"N3:N192\") _\n",
        "        , SortOn:=xlSortOnValues, Order:=xlAscending, DataOption:=xlSortNormal\n",
        "    ActiveWorkbook.Worksheets(\"Problema_2_Solucion\").Sort.SortFields.Add2 Key:=Range(\"S3:S192\") _\n",
        "        , SortOn:=xlSortOnValues, Order:=xlDescending, DataOption:=xlSortNormal\n",
        "    With ActiveWorkbook.Worksheets(\"Problema_2_Solucion\").Sort\n",
        "        .SetRange Range(\"N2:S192\")\n",
        "        .Header = xlYes\n",
        "        .MatchCase = False\n",
        "        .Orientation = xlTopToBottom\n",
        "        .SortMethod = xlPinYin\n",
        "        .Apply\n",
        "    End With\n",
        "    \n",
        "    'Una vez ordenado, asigna horarios de mayor a menor\n",
        "    'Asi aseguramos maximizar audiencia bruta por orden\n",
        "    'Asume que el dataset#3 esta ordenado\n",
        "    '   Factor, descendente como dato inicial\n",
        "    \n",
        "    fila = 3\n",
        "    filaNumHorario = 3 'Fijos 10 horarios\n",
        "    aN = 0#\n",
        "    \n",
        "    For i = 1 To 190\n",
        "        Cells(fila + i - 1, 20).Value = Cells(filaNumHorario, 8) 'Horario asignado de mayor a menor factor\n",
        "        'Join con dataset#3 para traer factor de hora para calcular audiencia neta\n",
        "        Cells(fila + i - 1, 21).FormulaR1C1 = \"=VLOOKUP(RC[-1],R3C8:R12C9,2,FALSE)\"\n",
        "        Cells(fila + i - 1, 21).Value = Cells(fila + i - 1, 21)\n",
        "        Cells(fila + i - 1, 22).FormulaR1C1 = \"=RC[-1]*RC[-3]\" 'Calcula Audiencia Neta\n",
        "        Cells(fila + i - 1, 22).Value = Cells(fila + i - 1, 22).Value\n",
        "        aN = aN + Cells(fila + i - 1, 22).Value 'acumulo audiencia neta\n",
        "        filaNumHorario = IIf(filaNumHorario < (10 + 2), filaNumHorario + 1, 3) 'Barre el dataset#3\n",
        "        \n",
        "    Next i\n",
        "    CalculaAudienciaCamposOrdenarPartidos = aN\n",
        "End Function\n",
        "\n",
        "Sub CargaEquipos(catCadena As String)\n",
        "    Dim fila As Integer\n",
        "    Dim i As Integer\n",
        "    Dim cat As String\n",
        "    \n",
        "    Dim contadorA As Integer\n",
        "    Dim contadorB As Integer\n",
        "    Dim contadorC As Integer\n",
        "    \n",
        "    Dim cont As Integer\n",
        "    'Carga inicial DataSet#1\n",
        "    fila = 3\n",
        "    'Carga inicial categorias\n",
        "    contadorA = 0\n",
        "    contadorB = 0\n",
        "    contadorC = 0\n",
        "    For i = 1 To 20\n",
        "        cat = Mid(catCadena, i, 1)\n",
        "        Cells(fila + i - 1, 1) = i 'ID equipo\n",
        "        Cells(fila + i - 1, 3) = cat 'Categoria\n",
        "        If cat = \"A\" Then\n",
        "            contadorA = contadorA + 1\n",
        "            cont = contadorA\n",
        "        End If\n",
        "        If cat = \"B\" Then\n",
        "            contadorB = contadorB + 1\n",
        "            cont = contadorB\n",
        "        End If\n",
        "        If cat = \"C\" Then\n",
        "            contadorC = contadorC + 1\n",
        "            cont = contadorC\n",
        "        End If\n",
        "        Cells(fila + i - 1, 2) = \"Eq_\" & cat & \"_\" & cont 'ID equipo\n",
        "    Next i\n",
        "End Sub\n",
        "\n",
        "Sub InsertarRegistroEscenario(cadena As String, audiencia As Double)\n",
        "    Dim maxID As Long\n",
        "    Dim fila As Long\n",
        "    'inserta Registro de Escenario Generado\n",
        "    'dataset #5\n",
        "    fila = 3\n",
        "    'buscar fila final para insertar registro\n",
        "    maxID = 0\n",
        "    While Cells(fila, 25).Value <> \"\"\n",
        "        If Cells(fila, 25).Value > maxID Then\n",
        "            maxID = Cells(fila, 25).Value\n",
        "        End If\n",
        "        fila = fila + 1\n",
        "    Wend\n",
        "    'Insertar\n",
        "    Cells(fila, 25) = maxID + 1 'ID combinacion\n",
        "    Cells(fila, 26) = cadena 'Combinacion\n",
        "    Cells(fila, 27) = audiencia 'aUDICIENCA\n",
        "    \n",
        "End Sub\n",
        "Function ObtenerCadenaAleatoria() As String\n",
        "    'Generar una cadena de CAT aleatoria, en Excel lee columna AD\n",
        "    Dim cadena As String\n",
        "    Dim fila As Integer\n",
        "    Dim gen As String\n",
        "    Dim pos_gen As Integer\n",
        "    cadena = \"BBBBBBBBBBBBBBBBBBBB\" 'Cadena Default\n",
        "    fila = 3\n",
        "    Do\n",
        "        gen = Cells(fila, 29).Value\n",
        "        pos_gen = Cells(fila, 30).Value\n",
        "        If gen <> \"\" Then\n",
        "            'reemplazar gen\n",
        "            cadena = Mid(cadena, 1, pos_gen - 1) & gen & Mid(cadena, pos_gen + 1, numEquipos - pos_gen)\n",
        "        End If\n",
        "        fila = fila + 1\n",
        "    Loop Until gen = \"\"\n",
        "    ObtenerCadenaAleatoria = cadena\n",
        "End Function\n",
        "\n",
        "Function EvolucionarPorMutacion(cadena As String) As String\n",
        "    Dim posDesde As Integer\n",
        "    Dim posHacia As Integer\n",
        "    Dim numGenes As Integer\n",
        "    Dim i As Integer\n",
        "    Dim cadEvol As String\n",
        "    Dim genDesde As String\n",
        "    Dim genHacia As String\n",
        "    Dim auxIntercambio As String\n",
        "    'Realizar una ligera mutacion de orden para mantener buenas audiecias\n",
        "    'Intercambiar ciertas subcadenas\n",
        "    cadEvol = cadena\n",
        "    While cadEvol = cadena 'Asegurar que la mutacion sea diferente\n",
        "        numGenes = Int((3 * Rnd()) + 0) '1 a 2 genes\n",
        "        posDesde = Int((8 * Rnd()) + 1) '1 a 8 pos_inicial\n",
        "        posHacia = Int((7 * Rnd()) + 8) '8 a 14 pos_final\n",
        "        For i = 1 To numGenes\n",
        "            genDesde = Mid(cadEvol, posDesde, 1)\n",
        "            genHacia = Mid(cadEvol, posHacia, 1)\n",
        "            'Escribir Gen(i) Hacia -> Desde\n",
        "            cadEvol = Mid(cadEvol, 1, posDesde - 1) & genHacia & Mid(cadEvol, posDesde + 1, numEquipos - posDesde)\n",
        "            'Escribir Gen(i) Desde -> hacia\n",
        "            cadEvol = Mid(cadEvol, 1, posHacia - 1) & genDesde & Mid(cadEvol, posHacia + 1, numEquipos - posHacia)\n",
        "            posDesde = posDesde + 1 'Recorrer posicion siguiente gen\n",
        "            posHacia = posHacia + 1 'Recorrer posicion siguiente gen\n",
        "        Next i\n",
        "    Wend\n",
        "    EvolucionarPorMutacion = cadEvol\n",
        "End Function\n",
        "\n",
        "Sub EscogerMejoresCromosomas(num As Integer, total As Integer)\n",
        "    Dim filaABorrar As Integer\n",
        "\n",
        "    'Aqui se dejara en el DataSet#5 los registros que contengan los (NUM) cromosomas con las mejores audiencias\n",
        "    'Ordenar por mejor audiencia\n",
        "    Range(\"Y3:AA\" & 3 + total + 10).Select\n",
        "    ActiveWorkbook.Worksheets(\"Problema_2_solucion\").Sort.SortFields.Clear\n",
        "    ActiveWorkbook.Worksheets(\"Problema_2_solucion\").Sort.SortFields.Add2 Key:= _\n",
        "        Range(\"AA3\"), SortOn:=xlSortOnValues, Order:=xlDescending, DataOption:= _\n",
        "        xlSortNormal\n",
        "    With ActiveWorkbook.Worksheets(\"Problema_2_solucion\").Sort\n",
        "        .SetRange Range(\"Y3:AA\" & 3 + total + 10)\n",
        "        .Header = xlGuess\n",
        "        .MatchCase = False\n",
        "        .Orientation = xlTopToBottom\n",
        "        .SortMethod = xlPinYin\n",
        "        .Apply\n",
        "    End With\n",
        "    'Solo Dejar los TOP (num) enviado como parametro\n",
        "    'Borrar los ultimos registros NO TOP del dataset#5\n",
        "    filaABorrar = 3 + num\n",
        "    While Cells(filaABorrar, 25).Value <> \"\"\n",
        "        Range(\"Y\" & filaABorrar & \":AA\" & filaABorrar).Select\n",
        "        Range(\"AA\" & filaABorrar).Activate\n",
        "        Selection.Delete Shift:=xlUp\n",
        "    Wend\n",
        "End Sub\n",
        "\n",
        "Sub Test()\n",
        "    Dim audiencia As Double\n",
        "    Dim cadena As String\n",
        "    Dim numGeneraciones As Long\n",
        "    Dim numGeneracionesEstables As Long\n",
        "    Dim MaxnumGeneracionesEstables As Long\n",
        "    Dim numHijosPorMutacion As Integer\n",
        "    Dim numHijosRandom As Integer\n",
        "    Dim MejorAudienciaGeneracion As Double\n",
        "    Dim i As Long\n",
        "    Dim j As Long\n",
        "    Application.ScreenUpdating = False\n",
        "    Randomize (100)\n",
        "    'Configurar Parametros Evolucion\n",
        "    numHijosPorMutacion = 5 'Top cromosomas que generan mejor audiencia y que seran seleccionados para mutar\n",
        "    numHijosRandom = 25 'Buscar manera de insertar nuevos escenarios\n",
        "    numGeneraciones = 100 'Numero Maximo de Generaciones\n",
        "    MaxnumGeneracionesEstables = 20 'Numero de control de salida cuando la maximización se estabiliza\n",
        "    \n",
        "    'Generar Partidos Round Robin Iniciales\n",
        "    GenerarPartidos\n",
        "    \n",
        "    'Crear Primera Poblacion de cromosomas\n",
        "    For i = 1 To numHijosRandom\n",
        "        cadena = ObtenerCadenaAleatoria\n",
        "        CargaEquipos cadena\n",
        "        'Calcula campos\n",
        "        audiencia = CalculaAudienciaCamposOrdenarPartidos\n",
        "        'Inserta Registro de escenario obtenido\n",
        "        InsertarRegistroEscenario cadena, audiencia\n",
        "        'Debug.Print \"Poblacion inicial generado: \" & i\n",
        "    Next i\n",
        "    \n",
        "    'Control de detencion definido por dato numero de Generaciones en los parametros\n",
        "    i = 1: numGeneracionesEstables = 0\n",
        "    Do\n",
        "\n",
        "        \n",
        "        EscogerMejoresCromosomas numHijosPorMutacion, numHijosPorMutacion * 2 + numHijosRandom\n",
        "        \n",
        "        'Crea nueva poblacion por mutaciones de mejores cromosomas\n",
        "        For j = 1 To numHijosPorMutacion\n",
        "            cadena = EvolucionarPorMutacion(Cells(3 + j - 1, 26).Value)\n",
        "            'Procesar nuevo hijo\n",
        "            CargaEquipos cadena\n",
        "            audiencia = CalculaAudienciaCamposOrdenarPartidos\n",
        "            InsertarRegistroEscenario cadena, audiencia\n",
        "            'Debug.Print \"Generacion# \" & i & \": Hijo mutacion mejor cromosoma#: \" & j\n",
        "        Next j\n",
        "        \n",
        "        'Crea nueva poblacion aleatoria\n",
        "        For j = 1 To numHijosRandom\n",
        "            cadena = ObtenerCadenaAleatoria\n",
        "            'Procesar nuevo hijo\n",
        "            CargaEquipos cadena\n",
        "            audiencia = CalculaAudienciaCamposOrdenarPartidos\n",
        "            InsertarRegistroEscenario cadena, audiencia\n",
        "            'Debug.Print \"Generacion# \" & i & \": Hijo aleatorio #: \" & j\n",
        "        Next j\n",
        "        'Control de estabilidad de solucion maxima\n",
        "        If (Cells(2, 28).Value = MejorAudienciaGeneracion) Then\n",
        "            numGeneracionesEstables = numGeneracionesEstables + 1\n",
        "        Else\n",
        "            numGeneracionesEstables = 0\n",
        "        End If\n",
        "        MejorAudienciaGeneracion = Cells(2, 28).Value 'Max audiencia en el Dataset#5\n",
        "        Debug.Print \"Generacion# \" & i & \" Mejor Audiencia alcanzada: \" & MejorAudienciaGeneracion & \" : GeneracionesEstables: \" & numGeneracionesEstables\n",
        "        i = i + 1\n",
        "    Loop Until (i = numGeneraciones) Or (numGeneracionesEstables = MaxnumGeneracionesEstables)\n",
        "    \n",
        "    'Cargar Mejor Cromosoma encontrado\n",
        "    cadena = Cells(3, 26).Value 'Lectura maxima audiencia Dataset#5\n",
        "    'Procesar nuevo hijo\n",
        "    CargaEquipos cadena\n",
        "    audiencia = CalculaAudienciaCamposOrdenarPartidos\n",
        "    ColocarEtiquetasPartidas\n",
        "    'Dataset#4 con resultado final optimo cargado\n",
        "    \n",
        "    Application.ScreenUpdating = True\n",
        "End Sub\n",
        "\n",
        "\n"
      ]
    },
    {
      "metadata": {
        "colab_type": "text",
        "id": "d-a9zRDW5kuq"
      },
      "cell_type": "markdown",
      "source": [
        "<font color = \"blue\">**Enumera las referencias que has utilizado(si ha sido necesario) para llevar a cabo el trabajo**</font>"
      ]
    },
    {
      "metadata": {
        "colab_type": "text",
        "id": "TYer6TFx5kus"
      },
      "cell_type": "markdown",
      "source": [
        "La principal fuente de ayuda ha sido la forma de generar un caledario generico de TODOS contra TODOS en un torneo <br>\n",
        "\n",
        "https://es.wikipedia.org/wiki/Sistema_de_todos_contra_todos"
      ]
    },
    {
      "metadata": {
        "colab_type": "text",
        "id": "e6pK0LYY5kut"
      },
      "cell_type": "markdown",
      "source": [
        "Describe brevemente las lineas de como crees que es posible avanzar en el estudio del problema. Ten en cuenta incluso posibles variaciones del problema y/o variaciones al alza del tamaño"
      ]
    },
    {
      "metadata": {
        "colab_type": "text",
        "id": "l7H7Dgq15pCd"
      },
      "cell_type": "markdown",
      "source": [
        "# **Problema 3:**\n",
        "\n",
        "<font color = \"blue\">**3. Combinar cifras y operaciones**</font> <BR>\n",
        "\n",
        "- Disponemos de las 9 cifras del 1 al 9 (excluimos el cero)\n",
        "- 4 signos básicos de las\n",
        "operaciones fundamentales: suma(+), resta(-), multiplicación(*) y división(/)\n",
        "- Debemos combinarlos alternativamente sin repetir ninguno de ellos para obtener una\n",
        "cantidad dada. Un ejemplo sería para obtener el 4:\n",
        "$$4+2-6/3*1 = 4$$\n",
        "- Debe analizarse el problema para encontrar todos los valores enteros posibles planteando las\n",
        "siguientes cuestiones:\n",
        "  - ¿Qué valor máximo y mínimo a priori se pueden obtener según las condiciones?\n",
        "  \n",
        "  Se lo calcula fácilmente realizando la multiplicacion máxima disponible (8*9), para el minimo colocarlo en negativo, para el máximo colocarlo en positivo de alli colocar la minima division posible (2/1) como inicial y acorde al signo de la multiplicacion sumar el siguiente digito mas grande 7\n",
        "  \n",
        "  $$ Minimo=-69, Maximo =77 $$\n",
        "  \n",
        "  \n",
        "  - ¿Es posible encontrar todos los valores enteros posibles entre dicho mínimo y máximo ?\n",
        "  \n",
        "  $$ Si $$"
      ]
    },
    {
      "metadata": {
        "colab_type": "code",
        "id": "hh4GQN1t5pCd",
        "colab": {}
      },
      "cell_type": "code",
      "source": [
        ""
      ],
      "execution_count": 0,
      "outputs": []
    },
    {
      "metadata": {
        "colab_type": "text",
        "id": "6DPyPHvW5pCf"
      },
      "cell_type": "markdown",
      "source": [
        "<font color = \"blue\">**(*)¿Cuantas posibilidades hay sin tener en cuenta las restricciones?**</font><br>\n",
        "\n",
        "\n",
        "Tenemos 9 elementos a combinar DIGITO1 SIGNO1 DIGITO 2 SIGNO 2 ... DIGITO4 SIGNO 4 DIGITO 5 <br>\n",
        "\n",
        "Por lo que todas las combinaciones será el resultado de la siguiente multiplicacion:\n",
        "\n",
        "$$ 9*4*9*4*9*4*9*4*9 $$\n",
        "\n",
        "\n",
        "\n",
        "<font color = \"blue\">**¿Cuantas posibilidades hay teniendo en cuenta todas las restricciones**</font><br>\n",
        "\n",
        "Las dos restricciones son la no repeticion de los digitos y de los signos, por lo que las posibilidades serían:\n",
        "\n",
        "$$ 9*4*8*3*7*2*6*1*5 $$\n",
        "\n"
      ]
    },
    {
      "metadata": {
        "colab_type": "text",
        "id": "waS85F8F5pCj"
      },
      "cell_type": "markdown",
      "source": [
        "<font color = \"blue\">**Modelo para el espacio de soluciones**</font><br>\n",
        "<font color = \"blue\">**(*) ¿Cual es la estructura de datos que mejor se adapta al problema? Argumentalo.(Es posible que hayas elegido una al principio y veas la necesidad de cambiar, arguentalo)**</font><br>\n"
      ]
    },
    {
      "metadata": {
        "colab_type": "text",
        "id": "-1IRbkIU5pCk"
      },
      "cell_type": "markdown",
      "source": [
        "Las estructuras utilizadas son DOS ARREGLOS, el primero de 5 celdas para los digitos, y el segundo de 4 CELDAS para los 4 signos posibles"
      ]
    },
    {
      "metadata": {
        "colab_type": "text",
        "id": "Y7v_NcoR5pCo"
      },
      "cell_type": "markdown",
      "source": [
        "<font color = \"blue\">**Según el modelo para el espacio de soluciones**</font><br>\n",
        "<font color = \"blue\">**(*)¿Cual es la función objetivo?**</font><br>\n",
        "\n",
        "Encontrar el valor ENTERO dado como objetivo\n",
        "\n",
        "<font color = \"blue\">**(*)¿Es un problema de maximización o minimización?**</font><br>\n",
        "\n",
        "Es de minimización, ya que lo que se busca es minimizar a CERO la diferencia entre el valor objetivo dado y el resultado de la operacion propuesta"
      ]
    },
    {
      "metadata": {
        "colab_type": "text",
        "id": "dPOoTTCv5pCr"
      },
      "cell_type": "markdown",
      "source": [
        "<font color = \"blue\">**Diseña un algoritmo para resolver el problema por fuerza bruta **</font><br>"
      ]
    },
    {
      "metadata": {
        "colab_type": "text",
        "id": "1_mTajS55pCs"
      },
      "cell_type": "markdown",
      "source": [
        "El algoritmo de fuerza bruta seria un programa de 9 FOR's anidados para variar cada DIGITO y cada SIGNO"
      ]
    },
    {
      "metadata": {
        "colab_type": "text",
        "id": "-nv-tBu85pCw"
      },
      "cell_type": "markdown",
      "source": [
        "<font color = \"blue\">**Calcula la complejidad del algoritmo por fuerza bruta **</font><br>"
      ]
    },
    {
      "metadata": {
        "colab_type": "text",
        "id": "QNimPf8U5pCy"
      },
      "cell_type": "markdown",
      "source": [
        "O(n^9) debido a la anidación de los FOR´s"
      ]
    },
    {
      "metadata": {
        "colab_type": "text",
        "id": "-PfIG4Yy5pC6"
      },
      "cell_type": "markdown",
      "source": [
        "<font color = \"blue\">**(*)Diseña un algoritmo que mejore la complejidad del algortimo por fuerza bruta. Argumenta porque crees que mejora el algoritmo por fuerza bruta **</font><br>"
      ]
    },
    {
      "metadata": {
        "colab_type": "text",
        "id": "g0IomfEG5pC8"
      },
      "cell_type": "markdown",
      "source": [
        "He decidido aplicar la técnica de **DIVIDE y VENCERAS** <br>\n",
        "\n",
        "El primer paso es buscar la operación MATEMÁTICA DE MULTIPLICACION que mas me acerque al resultado posible, esto lo logro obteniendo el FACTOR1 y FACTOR2, para esto inicio colocando como FACTOR1 el valor entero de la raiz cuadrada del valor absoluto del valor objetivo, y para FACTOR2 = FACTOR1 +1  <br>\n",
        "\n",
        "La operacion MULTIPLICACION siempre estará al final de la expresion, con esto <br>\n",
        "DIGITO 4 <- FACTOR 1<br>\n",
        "SIGNO 4 <- \"x\"<br>\n",
        "DIGITO 5 <- FACTOR 2<br>\n",
        "\n",
        "Una vez determinada la OPERACION MULTIPLICACION INICIAL, defino el orden de los signos para la operación final definimos:<br>\n",
        "\n",
        "Siempre empezaremos con la DIVISION. <br>\n",
        "SIGNO 1 <- \"/\"\n",
        "\n",
        "Si el valor objetivo es negativo, entonces el componente de multiplicacion debe ser negativo:<br>\n",
        "SIGNO 3 <- \"-\"<br>\n",
        "SIGNO 2 <- \"+\"<br>\n",
        "\n",
        "Dejando como opción de SIGNOS para la expresión final<br>\n",
        "\n",
        "\n",
        "Si el valor objetivo es positivo, entonces el componente de multiplicacion debe ser positivo:<br>\n",
        "SIGNO 3 <- \"+\"<br>\n",
        "SIGNO 2 <- \"-\"<br>\n",
        "\n",
        "Una vez definido esto, solo resta iterar sobre los DIGITOS 1, 2 y 3 hasta llegar al valor requerido. \n",
        "\n"
      ]
    },
    {
      "metadata": {
        "colab_type": "text",
        "id": "QrOThYFI5pDA"
      },
      "cell_type": "markdown",
      "source": [
        "<font color = \"blue\">** (*)Calcula la complejidad del algoritmo **</font><br>"
      ]
    },
    {
      "metadata": {
        "colab_type": "text",
        "id": "Iyyetr6r5pDD"
      },
      "cell_type": "markdown",
      "source": [
        "Se logra reducir a una complejidad O(n^4) ya que con el algortimo propuesto se juega solo entre 3 DIGITOS y dos combinaciones de SIGNOS"
      ]
    },
    {
      "metadata": {
        "colab_type": "text",
        "id": "FM30Ao6q5pDR"
      },
      "cell_type": "markdown",
      "source": [
        "<font color = \"blue\">**Según el problema (y tenga sentido), diseña un juego de datos de entrada aleatorios**</font><br>"
      ]
    },
    {
      "metadata": {
        "colab_type": "text",
        "id": "3QwTEw0B5pDR"
      },
      "cell_type": "markdown",
      "source": [
        "No es necesario dada la tecnica usada"
      ]
    },
    {
      "metadata": {
        "colab_type": "text",
        "id": "7m0Gt1dF5pDU"
      },
      "cell_type": "markdown",
      "source": [
        "<font color = \"blue\">**Aplica el algoritmo al juego de datos generado**</font><br>"
      ]
    },
    {
      "metadata": {
        "colab_type": "text",
        "id": "XK0_jksi5pDV"
      },
      "cell_type": "markdown",
      "source": [
        "Por temas de tiempo, el **ALGORITMO FUE IMPLEMENTADO EN EXCEL**, por favor mirar adjuntos.<br>\n"
      ]
    },
    {
      "metadata": {
        "id": "1ms5YgmlhAjK",
        "colab_type": "text"
      },
      "cell_type": "markdown",
      "source": [
        "Option Explicit\n",
        "Dim num_iteraciones As Integer\n",
        "Dim num_acum_iteraciones As Integer\n",
        "\n",
        "Function es_solucion(solucionDigitos As Variant, solucionSignos As Variant, valorObj As Integer)\n",
        "    Dim strEval As String\n",
        "    Dim i As Integer\n",
        "    \n",
        "    num_iteraciones = num_iteraciones + 1\n",
        "    strEval = \"=\"\n",
        "    For i = 1 To 5\n",
        "        strEval = strEval & solucionDigitos(i)\n",
        "        If i < 5 Then\n",
        "            strEval = strEval & solucionSignos(i)\n",
        "        End If\n",
        "    Next i\n",
        "    Cells(1, 1).FormulaR1C1 = strEval\n",
        "    es_solucion = (valorObj = Cells(1, 1).Value) 'Usar eval de Excel\n",
        "End Function\n",
        "\n",
        "Function GrabarSolucion() As String\n",
        "    GrabarSolucion = \"'\" & Cells(1, 1).FormulaR1C1\n",
        "End Function\n",
        "\n",
        "\n",
        "Function EsDigitoValido(solucionDigitos As Variant, solucionSignos As Variant, i As Integer) As Boolean\n",
        "    'Para ser valido, debe no generar divisiones inexactas y no debe repetirse\n",
        "    Dim resp As Boolean\n",
        "    Dim j As Integer\n",
        "    resp = True\n",
        "    'buscar en todo el arreglo\n",
        "    For j = 1 To UBound(solucionDigitos)\n",
        "        If solucionDigitos(j) = solucionDigitos(i) And j <> i Then\n",
        "            resp = False\n",
        "        End If\n",
        "    Next j\n",
        "    'buscar que no genere divisiones no enteras\n",
        "    If resp And (solucionDigitos(1) / solucionDigitos(2)) <> Int((solucionDigitos(1) / solucionDigitos(2))) Then\n",
        "        resp = False\n",
        "    End If\n",
        "        \n",
        "    EsDigitoValido = resp\n",
        "End Function\n",
        "\n",
        "\n",
        "Function FuerzaBrutaSoluciones(ByRef solucionDigitos As Variant, ByRef solucionSignos As Variant, valorObj As Integer) As String\n",
        "    Dim sol_encontrada As String\n",
        "    sol_encontrada = \"\"\n",
        "    Dim i1 As Integer\n",
        "    Dim i2 As Integer\n",
        "    Dim i3 As Integer\n",
        "    \n",
        "    i1 = 2: Do 'i1: Numerador para entero solo > 2\n",
        "        solucionDigitos(1) = i1\n",
        "            i2 = 1: Do 'i2 Denominador solo 1 hasta 4, resto daria siempre decimales\n",
        "                solucionDigitos(2) = i2\n",
        "                    i3 = 1: Do  'Todas las opciones sin restriccion\n",
        "                        solucionDigitos(3) = i3\n",
        "                        If EsDigitoValido(solucionDigitos, solucionSignos, 3) Then\n",
        "                            If es_solucion(solucionDigitos, solucionSignos, valorObj) Then\n",
        "                              sol_encontrada = GrabarSolucion\n",
        "                            End If\n",
        "                        End If\n",
        "                    i3 = i3 + 1: Loop Until i3 > 9 Or sol_encontrada <> \"\"  'Next i3\n",
        "            i2 = i2 + 1: Loop Until i2 > 4 Or sol_encontrada <> \"\"  'Next i2\n",
        "    i1 = i1 + 1: Loop Until i1 > 9 Or sol_encontrada <> \"\" 'Next i1\n",
        "    FuerzaBrutaSoluciones = sol_encontrada\n",
        "End Function\n",
        "\n",
        "Sub Test(valor As Integer)\n",
        "    Dim resuelto As String\n",
        "    Dim factor1 As Integer\n",
        "    Dim factor2 As Integer\n",
        "    Dim caso_especial As Boolean\n",
        "    ReDim solucionDigitos(1 To 5)\n",
        "    ReDim solucionSignos(1 To 4)\n",
        "    \n",
        "    caso_especial = False\n",
        "    num_iteraciones = 0\n",
        "    'Inicial\n",
        "    factor1 = Int(Sqr(Abs(valor)))\n",
        "    factor2 = factor1 + 1\n",
        "    'Posiciones\n",
        "    \n",
        "    'Si valor objetivo >0 entonces requerimos que la multiplicacion sea + y la pondremos al final de la expresion\n",
        "    solucionDigitos(4) = factor1: solucionDigitos(5) = factor2\n",
        "    If valor > 0 Then\n",
        "        solucionSignos(1) = \"/\": solucionSignos(2) = \"-\": solucionSignos(3) = \"+\": solucionSignos(4) = \"*\"\n",
        "    End If\n",
        "    'Si valor objetivo <=0 entonces requerimos que la multiplicacion sea - y la pondremos al medio de la expresion\n",
        "    If valor <= 0 Then\n",
        "        solucionSignos(1) = \"/\": solucionSignos(2) = \"+\": solucionSignos(3) = \"-\": solucionSignos(4) = \"*\"\n",
        "    End If\n",
        "    'Valores iniciales 3 digitos faltantes\n",
        "    solucionDigitos(1) = 2: solucionDigitos(2) = 1: solucionDigitos(3) = 3\n",
        "    Do\n",
        "        'Iteraremos solo sobre los digitos no factores de la multiplicacion\n",
        "        resuelto = FuerzaBrutaSoluciones(solucionDigitos, solucionSignos, valor)\n",
        "        If resuelto = \"\" Then\n",
        "            'Expander factor multiplicacion\n",
        "            If factor2 < 9 Then\n",
        "                factor2 = factor2 + 1\n",
        "                solucionDigitos(5) = factor2\n",
        "            Else\n",
        "                If factor1 > 1 Then\n",
        "                    factor1 = factor1 - 1\n",
        "                    solucionDigitos(4) = factor1\n",
        "                Else\n",
        "                    If Not caso_especial Then\n",
        "                        'reoganizar las permutaciones de expancion del multiplicador\n",
        "                        factor1 = Int(Sqr(Abs(valor))) + 1\n",
        "                        factor2 = factor1 + 1\n",
        "                        solucionDigitos(4) = factor1\n",
        "                        solucionDigitos(5) = factor2\n",
        "                    Else\n",
        "                        'Llego al limite sin solución\n",
        "                        resuelto = \"Sin solución!!!!\"\n",
        "                        caso_especial = True\n",
        "                    End If\n",
        "                End If\n",
        "            End If\n",
        "        End If\n",
        "    Loop Until resuelto <> \"\"\n",
        "    Debug.Print \"Valor = \" & valor & \" resuelto en: #\" & num_iteraciones & \"# iteraciones, formula = #\" & resuelto & \"#\"\n",
        "    Cells(1, 2).Value = resuelto\n",
        "End Sub\n",
        "\n",
        "Sub ComprobarTodos()\n",
        "    Dim x As Integer\n",
        "    num_acum_iteraciones = 0\n",
        "    Application.ScreenUpdating = False\n",
        "    For x = -69 To 77\n",
        "        Test x\n",
        "        num_acum_iteraciones = num_acum_iteraciones + num_iteraciones\n",
        "    Next x\n",
        "    Application.ScreenUpdating = True\n",
        "    MsgBox \"Soluciones para rango [-69,77] encontradas en \" & num_acum_iteraciones & \" validaciones de formula\", vbInformation\n",
        "    Cells(3, 1).Value = num_acum_iteraciones\n",
        "    \n",
        "End Sub\n",
        "\n",
        "Sub ComprobarUno()\n",
        "    Dim valorObjetivo As Integer\n",
        "    Application.ScreenUpdating = False\n",
        "    \n",
        "    valorObjetivo = InputBox(\"Por favor ingrese el numero entero [-69,77] a buscar\", \"Ingresar Valor Objetivo\", 0)\n",
        "    If valorObjetivo > 77 Or valorObjetivo < -69 Then\n",
        "        MsgBox \"El valor debe ser entre -69 y 77\", vbCritical\n",
        "    End If\n",
        "    Test valorObjetivo\n",
        "    \n",
        "    Application.ScreenUpdating = True\n",
        "    \n",
        "    MsgBox \"Solucion: \" & Right(Trim(Cells(1, 2).Value), Len(Cells(1, 2).Value) - 1) & \" = \" & valorObjetivo & \" Valor encontrado en \" & num_iteraciones & \" validaciones de formula\", vbInformation\n",
        "End Sub\n",
        "\n",
        "\n",
        "\n"
      ]
    },
    {
      "metadata": {
        "colab_type": "text",
        "id": "W4EzQyBH5pDZ"
      },
      "cell_type": "markdown",
      "source": [
        "<font color = \"blue\">**Enumera las referencias que has utilizado(si ha sido necesario) para llevar a cabo el trabajo**</font><br>"
      ]
    },
    {
      "metadata": {
        "colab_type": "text",
        "id": "HdTxjRra5pDa"
      },
      "cell_type": "markdown",
      "source": [
        "Ninguna"
      ]
    },
    {
      "metadata": {
        "colab_type": "text",
        "id": "EDMLCvPA5pDb"
      },
      "cell_type": "markdown",
      "source": [
        "<font color = \"blue\">**Describe brevemente las lineas de como crees que es posible avanzar en el estudio del problema. Ten en cuenta incluso posibles variaciones del problema y/o variaciones al alza del tamaño**</font><br>"
      ]
    },
    {
      "metadata": {
        "colab_type": "text",
        "id": "jOcNk3oL5pDb"
      },
      "cell_type": "markdown",
      "source": [
        "En el archivo EXCEL adjunto se puede ver que el algoritmo implementado logra encontrar en un promedio de 70 evaluaciones cualquier digito dentro del rango por la tecnica de Divide y Venceras, y con un SUPER TOTAL de 10311 evaluaciones para calcular TODOS lso digitos del rango <br>\n",
        "\n",
        "Ver gráfica de numero de evaluaciones pra cada DIGITO OBJETIVO"
      ]
    }
  ]
}