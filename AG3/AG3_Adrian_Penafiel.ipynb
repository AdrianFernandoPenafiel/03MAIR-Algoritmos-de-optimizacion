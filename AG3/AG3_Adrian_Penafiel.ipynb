{
  "nbformat": 4,
  "nbformat_minor": 0,
  "metadata": {
    "colab": {
      "name": "AG3-Adrian_Penafiel.ipynb",
      "version": "0.3.2",
      "provenance": [],
      "include_colab_link": true
    },
    "kernelspec": {
      "name": "python3",
      "display_name": "Python 3"
    }
  },
  "cells": [
    {
      "cell_type": "markdown",
      "metadata": {
        "id": "view-in-github",
        "colab_type": "text"
      },
      "source": [
        "<a href=\"https://colab.research.google.com/github/AdrianFernandoPenafiel/03MAIR-Algoritmos-de-optimizacion/blob/master/AG3/AG3_Adrian_Penafiel.ipynb\" target=\"_parent\"><img src=\"https://colab.research.google.com/assets/colab-badge.svg\" alt=\"Open In Colab\"/></a>"
      ]
    },
    {
      "metadata": {
        "id": "-YHk75y6oHWM",
        "colab_type": "text"
      },
      "cell_type": "markdown",
      "source": [
        "AG3 - Actividad Guiada 3\n",
        "\n",
        "Adrian Peñafiel Schweitzer\n",
        "\n",
        "URL: https://github.com/AdrianFernandoPenafiel/03MAIR-Algoritmos-de-optimizacion/blob/master/AG3/AG3_Adrian_Penafiel.ipynb\n",
        "\n"
      ]
    },
    {
      "metadata": {
        "id": "I83hADFhpJeZ",
        "colab_type": "code",
        "colab": {
          "base_uri": "https://localhost:8080/",
          "height": 34
        },
        "outputId": "4f453669-ebe1-463e-d2db-3f5734f890f7"
      },
      "cell_type": "code",
      "source": [
        "import urllib.request\n",
        "\n",
        "file = \"swiss42.tsp\"\n",
        "\n",
        "urllib.request.urlretrieve(\"http://elib.zib.de/pub/mp-testdata/tsp/tsplib/tsp/swiss42.tsp\", file)"
      ],
      "execution_count": 1,
      "outputs": [
        {
          "output_type": "execute_result",
          "data": {
            "text/plain": [
              "('swiss42.tsp', <http.client.HTTPMessage at 0x7f2c391da860>)"
            ]
          },
          "metadata": {
            "tags": []
          },
          "execution_count": 1
        }
      ]
    },
    {
      "metadata": {
        "id": "TmTib5ZipeJ-",
        "colab_type": "code",
        "colab": {
          "base_uri": "https://localhost:8080/",
          "height": 336
        },
        "outputId": "8c16627a-83e2-4999-ed24-989135155091"
      },
      "cell_type": "code",
      "source": [
        "!pip install tsplib95"
      ],
      "execution_count": 2,
      "outputs": [
        {
          "output_type": "stream",
          "text": [
            "Collecting tsplib95\n",
            "  Downloading https://files.pythonhosted.org/packages/d1/4f/6a1cb104ce9b400eed7690641230fab1515bd475f2dd86d4a3a73f677e3b/tsplib95-0.3.2-py2.py3-none-any.whl\n",
            "Collecting networkx==2.1 (from tsplib95)\n",
            "\u001b[?25l  Downloading https://files.pythonhosted.org/packages/11/42/f951cc6838a4dff6ce57211c4d7f8444809ccbe2134179950301e5c4c83c/networkx-2.1.zip (1.6MB)\n",
            "\u001b[K    100% |████████████████████████████████| 1.6MB 10.8MB/s \n",
            "\u001b[?25hRequirement already satisfied: Click>=6.0 in /usr/local/lib/python3.6/dist-packages (from tsplib95) (7.0)\n",
            "Requirement already satisfied: decorator>=4.1.0 in /usr/local/lib/python3.6/dist-packages (from networkx==2.1->tsplib95) (4.3.2)\n",
            "Building wheels for collected packages: networkx\n",
            "  Building wheel for networkx (setup.py) ... \u001b[?25ldone\n",
            "\u001b[?25h  Stored in directory: /root/.cache/pip/wheels/44/c0/34/6f98693a554301bdb405f8d65d95bbcd3e50180cbfdd98a94e\n",
            "Successfully built networkx\n",
            "\u001b[31mimgaug 0.2.8 has requirement numpy>=1.15.0, but you'll have numpy 1.14.6 which is incompatible.\u001b[0m\n",
            "\u001b[31malbumentations 0.1.12 has requirement imgaug<0.2.7,>=0.2.5, but you'll have imgaug 0.2.8 which is incompatible.\u001b[0m\n",
            "Installing collected packages: networkx, tsplib95\n",
            "  Found existing installation: networkx 2.2\n",
            "    Uninstalling networkx-2.2:\n",
            "      Successfully uninstalled networkx-2.2\n",
            "Successfully installed networkx-2.1 tsplib95-0.3.2\n"
          ],
          "name": "stdout"
        }
      ]
    },
    {
      "metadata": {
        "id": "XJn0IFDKpjtK",
        "colab_type": "code",
        "colab": {}
      },
      "cell_type": "code",
      "source": [
        "import tsplib95\n",
        "import random\n",
        "from math import e\n",
        "\n",
        "problem = tsplib95.load_problem(file)\n",
        "\n",
        "\n",
        "#Nodos\n",
        "Nodos = list(problem.get_nodes())\n",
        "\n",
        "#Aristas\n",
        "Aristas = list(problem.get_edges()) "
      ],
      "execution_count": 0,
      "outputs": []
    },
    {
      "metadata": {
        "id": "ywLJ9mD-plj2",
        "colab_type": "code",
        "colab": {}
      },
      "cell_type": "code",
      "source": [
        "# devuelve el factorial de un numero\n",
        "def factorial(n):\n",
        "    if n== 0:\n",
        "        return 1\n",
        "    else:\n",
        "        return n * factorial(n-1)"
      ],
      "execution_count": 0,
      "outputs": []
    },
    {
      "metadata": {
        "id": "YGWV1zx-plm-",
        "colab_type": "code",
        "colab": {}
      },
      "cell_type": "code",
      "source": [
        "#Generador de soluciones aleatorias incluyendo el nodo 0\n",
        "def crear_solucion(Nodos):\n",
        "    solucion = [0]\n",
        "    for i in range(len(Nodos)-1):\n",
        "        solucion = solucion + [random.choice(list(set(Nodos) - set({0}) - set(solucion)))]\n",
        "    return solucion"
      ],
      "execution_count": 0,
      "outputs": []
    },
    {
      "metadata": {
        "id": "uMvrWC1Qplp_",
        "colab_type": "code",
        "colab": {
          "base_uri": "https://localhost:8080/",
          "height": 763
        },
        "outputId": "39f2e936-a05c-4de6-8d5c-2c0673b90d0c"
      },
      "cell_type": "code",
      "source": [
        "crear_solucion(Nodos)"
      ],
      "execution_count": 6,
      "outputs": [
        {
          "output_type": "execute_result",
          "data": {
            "text/plain": [
              "[0,\n",
              " 22,\n",
              " 19,\n",
              " 8,\n",
              " 9,\n",
              " 7,\n",
              " 15,\n",
              " 40,\n",
              " 39,\n",
              " 26,\n",
              " 36,\n",
              " 13,\n",
              " 33,\n",
              " 11,\n",
              " 1,\n",
              " 5,\n",
              " 29,\n",
              " 21,\n",
              " 3,\n",
              " 4,\n",
              " 12,\n",
              " 20,\n",
              " 23,\n",
              " 35,\n",
              " 41,\n",
              " 28,\n",
              " 31,\n",
              " 24,\n",
              " 16,\n",
              " 14,\n",
              " 32,\n",
              " 25,\n",
              " 18,\n",
              " 38,\n",
              " 37,\n",
              " 17,\n",
              " 27,\n",
              " 6,\n",
              " 30,\n",
              " 2,\n",
              " 34,\n",
              " 10]"
            ]
          },
          "metadata": {
            "tags": []
          },
          "execution_count": 6
        }
      ]
    },
    {
      "metadata": {
        "id": "uuXRfhjXplsm",
        "colab_type": "code",
        "colab": {}
      },
      "cell_type": "code",
      "source": [
        "#Devuelve la distancia entre dos nodos\n",
        "def distancia(a,b, problem):\n",
        "    return problem.wfunc(a,b)"
      ],
      "execution_count": 0,
      "outputs": []
    },
    {
      "metadata": {
        "id": "wx4pLmFgplu8",
        "colab_type": "code",
        "colab": {
          "base_uri": "https://localhost:8080/",
          "height": 34
        },
        "outputId": "7adf2ed2-1a14-4873-c239-6c4b1c826b98"
      },
      "cell_type": "code",
      "source": [
        "distancia(0,2,problem)"
      ],
      "execution_count": 8,
      "outputs": [
        {
          "output_type": "execute_result",
          "data": {
            "text/plain": [
              "30"
            ]
          },
          "metadata": {
            "tags": []
          },
          "execution_count": 8
        }
      ]
    },
    {
      "metadata": {
        "id": "6xD7l793plxb",
        "colab_type": "code",
        "colab": {}
      },
      "cell_type": "code",
      "source": [
        "#sumatoria de aristas\n",
        "def distancia_total(solucion, problem):\n",
        "    distancia_total=0\n",
        "    for i in range(len(solucion)-1):\n",
        "        distancia_total += distancia(solucion[i], solucion[i+1], problem)\n",
        "    return distancia_total + distancia(solucion[len(solucion)-1], solucion[0], problem)"
      ],
      "execution_count": 0,
      "outputs": []
    },
    {
      "metadata": {
        "id": "loRDOFg2pl0d",
        "colab_type": "code",
        "colab": {
          "base_uri": "https://localhost:8080/",
          "height": 34
        },
        "outputId": "b5ca091c-e1de-458d-ad34-af282a5b840b"
      },
      "cell_type": "code",
      "source": [
        "distancia_total(crear_solucion(Nodos), problem)"
      ],
      "execution_count": 10,
      "outputs": [
        {
          "output_type": "execute_result",
          "data": {
            "text/plain": [
              "4397"
            ]
          },
          "metadata": {
            "tags": []
          },
          "execution_count": 10
        }
      ]
    },
    {
      "metadata": {
        "id": "gcqu7gCAqDFi",
        "colab_type": "code",
        "colab": {}
      },
      "cell_type": "code",
      "source": [
        "def busqueda_aleatoria(problem, N):\n",
        "    Nodos = list(problem.get_nodes())\n",
        "    \n",
        "    mejor_solucion = []\n",
        "    mejor_distancia = 10e1000\n",
        "    \n",
        "    for i in range(N):\n",
        "        solucion = crear_solucion(Nodos)\n",
        "        distancia = distancia_total(solucion, problem)\n",
        "        \n",
        "        if distancia < mejor_distancia:\n",
        "            mejor_solucion = solucion\n",
        "            mejor_distancia = distancia\n",
        "    print(\"Mejor solucion: \", mejor_solucion)\n",
        "    print(\"Mejor distancia: \", mejor_distancia)\n",
        "    return mejor_solucion"
      ],
      "execution_count": 0,
      "outputs": []
    },
    {
      "metadata": {
        "id": "UnIAn214qDQz",
        "colab_type": "code",
        "colab": {
          "base_uri": "https://localhost:8080/",
          "height": 52
        },
        "outputId": "7576a5c5-614b-4871-d563-a804e3d0183d"
      },
      "cell_type": "code",
      "source": [
        "sol = busqueda_aleatoria(problem, 800)"
      ],
      "execution_count": 12,
      "outputs": [
        {
          "output_type": "stream",
          "text": [
            "Mejor solucion:  [0, 2, 34, 41, 24, 38, 33, 4, 22, 12, 13, 6, 10, 36, 31, 17, 20, 7, 32, 28, 30, 16, 15, 19, 18, 1, 8, 23, 3, 5, 37, 14, 27, 35, 9, 25, 21, 29, 26, 11, 39, 40]\n",
            "Mejor distancia:  3838\n"
          ],
          "name": "stdout"
        }
      ]
    },
    {
      "metadata": {
        "id": "0-kCnmv2qK6D",
        "colab_type": "text"
      },
      "cell_type": "markdown",
      "source": [
        "### **Busqueda Local**"
      ]
    },
    {
      "metadata": {
        "id": "iKOO_37EqDYa",
        "colab_type": "code",
        "colab": {}
      },
      "cell_type": "code",
      "source": [
        "def genera_vecina(solucion) :\n",
        "  #Generador de soluciones vecinas: 2-opt (intercambiar 2 nodos) Si hay N nodos se generan (N-1)x(N-2)/2 soluciones\n",
        "  #print(solucion)\n",
        "  mejor_solucion = []\n",
        "  mejor_distancia = 10e100\n",
        "  for i in range(1,len(solucion)-1):\n",
        "    for j in range(i+1, len(solucion)):\n",
        "      vecina = solucion[:i] + [solucion[j]] + solucion[i+1:j] + [solucion[i]] + solucion[j+1:]\n",
        "      distancia_vecina = distancia_total(vecina, problem)\n",
        "      if distancia_vecina <= mejor_distancia:\n",
        "        mejor_distancia = distancia_vecina\n",
        "        mejor_solucion = vecina\n",
        "  return mejor_solucion"
      ],
      "execution_count": 0,
      "outputs": []
    },
    {
      "metadata": {
        "id": "UaoOm_d8qDWc",
        "colab_type": "code",
        "colab": {
          "base_uri": "https://localhost:8080/",
          "height": 52
        },
        "outputId": "c30e32c7-42e0-467a-86be-e437dd88f6ec"
      },
      "cell_type": "code",
      "source": [
        "solucion = crear_solucion(Nodos)\n",
        "print(solucion)\n",
        "nueva_solucion = genera_vecina(solucion)\n",
        "print(nueva_solucion)\n"
      ],
      "execution_count": 14,
      "outputs": [
        {
          "output_type": "stream",
          "text": [
            "[0, 12, 20, 22, 23, 13, 14, 30, 24, 18, 19, 4, 6, 9, 32, 41, 17, 36, 3, 38, 25, 16, 21, 10, 29, 11, 27, 2, 37, 34, 35, 8, 31, 33, 28, 15, 1, 7, 26, 39, 40, 5]\n",
            "[0, 12, 20, 22, 23, 13, 14, 30, 24, 18, 19, 4, 6, 9, 32, 16, 17, 36, 3, 38, 25, 41, 21, 10, 29, 11, 27, 2, 37, 34, 35, 8, 31, 33, 28, 15, 1, 7, 26, 39, 40, 5]\n"
          ],
          "name": "stdout"
        }
      ]
    },
    {
      "metadata": {
        "id": "RBgs4SkpqDUP",
        "colab_type": "code",
        "colab": {}
      },
      "cell_type": "code",
      "source": [
        "def busqueda_local( problem, N ) :\n",
        "    mejor_solucion = []\n",
        "    mejor_distancia = 10e1000\n",
        "    Nodos = list(problem.get_nodes())\n",
        "    \n",
        "    solucion_referencia = crear_solucion(Nodos)\n",
        "    \n",
        "    for i in range(N):\n",
        "        vecina = genera_vecina(solucion_referencia)\n",
        "        distancia_vecina = distancia_total(vecina, problem)\n",
        "        \n",
        "        if distancia_vecina < mejor_distancia :\n",
        "            mejor_solucion = vecina\n",
        "            mejor_distancia = distancia_vecina\n",
        "        \n",
        "        solucion_referencia = vecina\n",
        "    \n",
        "    print(\"Mejor solucion: \", mejor_solucion)\n",
        "    print(\"Mejor distancia: \", mejor_distancia)\n",
        "    return mejor_solucion"
      ],
      "execution_count": 0,
      "outputs": []
    },
    {
      "metadata": {
        "id": "qVN8meqYqYNl",
        "colab_type": "code",
        "colab": {
          "base_uri": "https://localhost:8080/",
          "height": 52
        },
        "outputId": "5ae5b063-4af3-449a-9393-d1cb986ddcd4"
      },
      "cell_type": "code",
      "source": [
        "sol = busqueda_local(problem, 100)"
      ],
      "execution_count": 16,
      "outputs": [
        {
          "output_type": "stream",
          "text": [
            "Mejor solucion:  [0, 29, 9, 23, 41, 25, 10, 8, 28, 2, 4, 12, 11, 18, 17, 31, 35, 36, 37, 16, 19, 13, 5, 26, 6, 1, 14, 15, 7, 30, 21, 40, 24, 39, 22, 38, 34, 33, 20, 32, 27, 3]\n",
            "Mejor distancia:  1781\n"
          ],
          "name": "stdout"
        }
      ]
    },
    {
      "metadata": {
        "id": "suoZGMPJqcHY",
        "colab_type": "code",
        "colab": {}
      },
      "cell_type": "code",
      "source": [
        "def genera_vecina_aleatorio(solucion):\n",
        "  #Generador de 1 solucion vecina 2-opt (intercambiar 2 nodos)\n",
        "  #Se puede mejorar haciendo que la elección no se uniforme sino entre las que estén más proximas\n",
        "  i = random.choice(range(1, len(solucion)) )\n",
        "  j = random.choice(list(set(range(1, len(solucion))) - {i}))\n",
        "  vecina = solucion[:i] + [solucion[j]] + solucion[i+1:j] + [solucion[i]] + solucion[j+1:]\n",
        "  return vecina"
      ],
      "execution_count": 0,
      "outputs": []
    },
    {
      "metadata": {
        "id": "YzvC0VrBqcLD",
        "colab_type": "code",
        "colab": {}
      },
      "cell_type": "code",
      "source": [
        "def probabilidad(T,d):\n",
        "  r=random.random();\n",
        "  if(r <= (e**(-1*d)/(T*1.0))):\n",
        "    return True\n",
        "  else:\n",
        "    return False"
      ],
      "execution_count": 0,
      "outputs": []
    },
    {
      "metadata": {
        "id": "b882lSe9qcF1",
        "colab_type": "code",
        "colab": {}
      },
      "cell_type": "code",
      "source": [
        "def bajar_temperatura(T):\n",
        "    return T-1"
      ],
      "execution_count": 0,
      "outputs": []
    },
    {
      "metadata": {
        "id": "hXzTv9xYqcCl",
        "colab_type": "code",
        "colab": {}
      },
      "cell_type": "code",
      "source": [
        "def recocido_simulado(problem, TEMPERATURA):\n",
        "  #problem = datos del problema\n",
        "  #T = Temperatura\n",
        "  \n",
        "  solucion_referencia = crear_solucion(Nodos)\n",
        "  distancia_referencia = distancia_total(solucion_referencia, problem)\n",
        "  \n",
        "  mejor_solucion = []\n",
        "  mejor_distancia = 10e100\n",
        "  \n",
        "  while TEMPERATURA > 0:\n",
        "    #Genera una solución vecina(aleatoria)\n",
        "\n",
        "    #cambiamos la vecina aleatoria\n",
        "    #vecina = genera_vecina_aleatorio(solucion_referencia)\n",
        "    vecina = genera_vecina(solucion_referencia)\n",
        "    \n",
        "    #Calcula su valor(distancia)\n",
        "    distancia_vecina = distancia_total(vecina, problem)\n",
        "    \n",
        "    #Si es la mejor solución de todas se guarda\n",
        "    if distancia_vecina < mejor_distancia:\n",
        "        mejor_solucion = vecina\n",
        "        mejor_distancia = distancia_vecina\n",
        "    \n",
        "    #Si la nueva vecina es mejor se cambia y si es peor se cambia según una probabilidad dependiente de T y de |distancia_referencia - distancia_vecina|\n",
        "    if distancia_vecina < distancia_referencia or probabilidad(TEMPERATURA, abs(distancia_referencia - distancia_vecina) ) :\n",
        "      solucion_referencia = vecina\n",
        "      distancia_referencia = distancia_vecina\n",
        "\n",
        "    TEMPERATURA = bajar_temperatura(TEMPERATURA)\n",
        "  \n",
        "  print(\"La mejor solución encontrada es \" , end=\"\")\n",
        "  print(mejor_solucion)\n",
        "  print(\"con una distancia total de \" , end=\"\")\n",
        "  print(mejor_distancia)\n",
        "  return mejor_solucion"
      ],
      "execution_count": 0,
      "outputs": []
    },
    {
      "metadata": {
        "id": "mfRotxvAqb_V",
        "colab_type": "code",
        "colab": {
          "base_uri": "https://localhost:8080/",
          "height": 52
        },
        "outputId": "2538f593-ceaa-45d6-a5a0-0c4b734f815b"
      },
      "cell_type": "code",
      "source": [
        "sol = recocido_simulado(problem, 100)"
      ],
      "execution_count": 21,
      "outputs": [
        {
          "output_type": "stream",
          "text": [
            "La mejor solución encontrada es [0, 1, 6, 26, 18, 12, 11, 25, 10, 3, 4, 5, 13, 19, 14, 16, 15, 37, 7, 32, 34, 30, 28, 2, 27, 17, 36, 35, 31, 29, 8, 41, 23, 9, 40, 24, 21, 39, 22, 38, 33, 20]\n",
            "con una distancia total de 1686\n"
          ],
          "name": "stdout"
        }
      ]
    },
    {
      "metadata": {
        "id": "i4_bpEVRqwS2",
        "colab_type": "text"
      },
      "cell_type": "markdown",
      "source": [
        "## **Metaheuristico**"
      ]
    },
    {
      "metadata": {
        "id": "_-1uGW0Yqb7-",
        "colab_type": "code",
        "colab": {}
      },
      "cell_type": "code",
      "source": [
        "def Add_Nodo(problem, H ,T ) :\n",
        "  #Establecer una una funcion de probabilidad para \n",
        "  # añadir un nuevo nodo dependiendo de los nodos mas cercanos y de las feromonas depositadas\n",
        "  Nodos = list(problem.get_nodes())\n",
        "  return random.choice(   list(set(range(1,len(Nodos))) - set(H) )  )\n",
        "\n",
        "def Incrementa_Feromona(problem, T, H):\n",
        "  #Incrementar segun la calidad de la solución. Añadir una cantidad inversamente proporcional a la distancia total \n",
        "  for i in range(len(H)-1):\n",
        "    T[H[i]][H[i+1]] += 1000/distancia_total(H, problem)\n",
        "  return T\n",
        "\n",
        "def Evaporar_Feromonas(T):\n",
        "  #Podemos elegir diferentes funciones de evaporación dependiendo de la cantidad actual y de la suma total de feromonas depositadas,...\n",
        "  #Evapora 0.3 el valor de la feromona, sin que baje de 1\n",
        "  T = [[ max(T[i][j] - 0.3 , 1) for i in range(len(Nodos)) ] for j in range(len(Nodos))]\n",
        "  return T"
      ],
      "execution_count": 0,
      "outputs": []
    },
    {
      "metadata": {
        "id": "wsgPxyPZqz_G",
        "colab_type": "code",
        "colab": {}
      },
      "cell_type": "code",
      "source": [
        "def hormigas(problem, N):\n",
        "  #problem = datos del problema\n",
        "  #N = Número de agentes(hormigas)\n",
        "    \n",
        "  #Nodos\n",
        "  Nodos = list(problem.get_nodes())\n",
        "    #Aristas\n",
        "  Aristas = list(problem.get_edges()) \n",
        "  \n",
        "  #Inicializa las aristas con una cantidad inicial de feromonas:1\n",
        "  T = [[ 1 for _ in range(len(Nodos)) ] for _ in range(len(Nodos))]\n",
        "  \n",
        "  #Se generan los agentes(hormigas) que serán estructuras de caminos desde 0\n",
        "  Hormiga = [[0] for _ in range(N)]\n",
        "  \n",
        "  #Recorre cada agente construyendo la solución\n",
        "  for h in range(N):\n",
        "    #print(\"\\nAgente:\", h)\n",
        "    #Para cada agente se construye un camino\n",
        "    for i in range(len(Nodos)-1):\n",
        "      \n",
        "      #Elige el siguiente nodo\n",
        "      Nuevo_Nodo = Add_Nodo(problem, Hormiga[h] ,T )\n",
        "      \n",
        "      Hormiga[h].append(Nuevo_Nodo)     \n",
        "    \n",
        "    #Incrementa feromonas en esa arista \n",
        "    T = Incrementa_Feromona(problem, T, Hormiga[h] )\n",
        "    #print(\"Feromonas(1)\", T)\n",
        "      \n",
        "    #Evapora Feromonas  \n",
        "    T = Evaporar_Feromonas(T)\n",
        "    #print(\"Feromonas(2)\", T)\n",
        "\n",
        "    #Seleccionamos el mejor agente\n",
        "  mejor_solucion = []\n",
        "  mejor_distancia = 10e100\n",
        "  for h in range(N):\n",
        "    distancia_actual = distancia_total(Hormiga[h], problem)\n",
        "    if distancia_actual < mejor_distancia:\n",
        "      mejor_solucion = Hormiga[h]\n",
        "      mejor_distancia =distancia_actual\n",
        "  \n",
        "  \n",
        "  print(mejor_solucion)\n",
        "  print(mejor_distancia)"
      ],
      "execution_count": 0,
      "outputs": []
    },
    {
      "metadata": {
        "id": "aioNrbk6q0J6",
        "colab_type": "code",
        "colab": {
          "base_uri": "https://localhost:8080/",
          "height": 52
        },
        "outputId": "af671f36-411b-4e32-8158-1bb0dab8b1db"
      },
      "cell_type": "code",
      "source": [
        "hormigas(problem, 1000)"
      ],
      "execution_count": 25,
      "outputs": [
        {
          "output_type": "stream",
          "text": [
            "[0, 18, 13, 25, 29, 32, 6, 2, 28, 5, 30, 12, 20, 3, 31, 7, 37, 16, 27, 34, 15, 1, 33, 26, 41, 10, 8, 11, 23, 4, 19, 17, 39, 24, 40, 38, 21, 22, 35, 36, 14, 9]\n",
            "3790\n"
          ],
          "name": "stdout"
        }
      ]
    }
  ]
}