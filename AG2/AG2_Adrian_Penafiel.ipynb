{
  "nbformat": 4,
  "nbformat_minor": 0,
  "metadata": {
    "colab": {
      "name": "AG2 - Adrian Penafiel.ipynb",
      "version": "0.3.2",
      "provenance": [],
      "include_colab_link": true
    },
    "kernelspec": {
      "name": "python3",
      "display_name": "Python 3"
    }
  },
  "cells": [
    {
      "cell_type": "markdown",
      "metadata": {
        "id": "view-in-github",
        "colab_type": "text"
      },
      "source": [
        "<a href=\"https://colab.research.google.com/github/AdrianFernandoPenafiel/03MAIR-Algoritmos-de-optimizacion/blob/master/AG2/AG2_Adrian_Penafiel.ipynb\" target=\"_parent\"><img src=\"https://colab.research.google.com/assets/colab-badge.svg\" alt=\"Open In Colab\"/></a>"
      ]
    },
    {
      "metadata": {
        "id": "zdEglyuREg37",
        "colab_type": "text"
      },
      "cell_type": "markdown",
      "source": [
        "# AG2 - Actividad Guiada 2 <br>\n",
        "\n",
        "## **Adrian Peñafiel** <br>\n",
        "\n",
        "URL: https://github.com/AdrianFernandoPenafiel/03MAIR-Algoritmos-de-optimizacion/tree/master/AG2\n"
      ]
    },
    {
      "metadata": {
        "id": "oTGkUz5wFi9Y",
        "colab_type": "code",
        "colab": {}
      },
      "cell_type": "code",
      "source": [
        "#Decorador para calcular_tiempo a la función para la cual queremos calcular el tiempo de ejecución(Isabel Vázquez)\n",
        "\n",
        "from time import time\n",
        "#Función para calcular el tiempo de ejecución\n",
        "def calcular_tiempo(f):\n",
        "   \n",
        "    def wrapper(*args, **kwargs):        \n",
        "        inicio = time()       \n",
        "        resultado = f(*args, **kwargs)       \n",
        "        tiempo = time() - inicio\n",
        "        print(\"Tiempo de ejecución para algoritmo: \"+str(tiempo))\n",
        "        return resultado\n",
        "    \n",
        "    return wrapper"
      ],
      "execution_count": 0,
      "outputs": []
    },
    {
      "metadata": {
        "id": "3AfIcEP6KpMb",
        "colab_type": "code",
        "colab": {}
      },
      "cell_type": "code",
      "source": [
        "import math\n",
        "import random\n",
        "\n"
      ],
      "execution_count": 0,
      "outputs": []
    },
    {
      "metadata": {
        "id": "NgLgkermEwll",
        "colab_type": "code",
        "colab": {
          "base_uri": "https://localhost:8080/",
          "height": 34
        },
        "outputId": "bbac579d-6162-488c-a477-70e0765ea000"
      },
      "cell_type": "code",
      "source": [
        "\n",
        "\n",
        "def distancia(A,B):\n",
        "  if type(A) is int or type(A) is float:\n",
        "    return abs(B-A)\n",
        "  else:\n",
        "    return math.sqrt(sum([(A[i]-B[i])**2 for i in range(len(A))]))\n",
        " \n",
        "#distancia(2,5)  #en 1D\n",
        "distancia((1,3) , (2,5))   #en 2D\n"
      ],
      "execution_count": 9,
      "outputs": [
        {
          "output_type": "execute_result",
          "data": {
            "text/plain": [
              "2.23606797749979"
            ]
          },
          "metadata": {
            "tags": []
          },
          "execution_count": 9
        }
      ]
    },
    {
      "metadata": {
        "id": "jrSdx_HYF7Y0",
        "colab_type": "code",
        "colab": {
          "base_uri": "https://localhost:8080/",
          "height": 51
        },
        "outputId": "5ed0e42b-b5fc-4a7f-bece-f7bc2c399e4d"
      },
      "cell_type": "code",
      "source": [
        "@calcular_tiempo\n",
        "def distancia_fuerza_bruta(L):\n",
        "  mejor_distancia = 100000e10\n",
        "  A,B = (),()\n",
        "  for i in range(len(L)):\n",
        "    for j in range(i+1,len(L)):\n",
        "      D = distancia(L[i],L[j])\n",
        "      if D < mejor_distancia:\n",
        "        A,B = L[i],L[j]\n",
        "        mejor_distancia = D\n",
        "  return [A,B]\n",
        "\n",
        "N = 100\n",
        "LISTA_2D = [(random.randrange(1,N*10),random.randrange(1,N*10) ) for _ in range(N)]\n",
        "#print(LISTA_2D)\n",
        "\n",
        "distancia_fuerza_bruta(LISTA_2D)"
      ],
      "execution_count": 35,
      "outputs": [
        {
          "output_type": "stream",
          "text": [
            "Tiempo de ejecución para algoritmo: 0.011106014251708984\n"
          ],
          "name": "stdout"
        },
        {
          "output_type": "execute_result",
          "data": {
            "text/plain": [
              "[(629, 958), (631, 957)]"
            ]
          },
          "metadata": {
            "tags": []
          },
          "execution_count": 35
        }
      ]
    },
    {
      "metadata": {
        "id": "-bZvXZ_1HJNp",
        "colab_type": "text"
      },
      "cell_type": "markdown",
      "source": [
        "### **Divide y Vencerás**\n"
      ]
    },
    {
      "metadata": {
        "id": "9TztMAYWHGFJ",
        "colab_type": "code",
        "colab": {
          "base_uri": "https://localhost:8080/",
          "height": 68
        },
        "outputId": "81a2bd04-990b-4cef-f94b-1f55e3f15eb3"
      },
      "cell_type": "code",
      "source": [
        "def distancia_divide_y_venceras(L):\n",
        "  #Si hay pocos mejor por fuerza bruta\n",
        "  if len(L)<=10:\n",
        "    return distancia_fuerza_bruta(L)\n",
        "  #Dividimos por la primera corrdenada\n",
        "  pivote = sum([L[i][0] for i in range(len(L))])/len(L) #Tomamos la media como pivote\n",
        "  \n",
        "  LISTA_IZQ = sorted(L, key=lambda x: x[0])[:len(L)//2]\n",
        "  LISTA_DER = sorted(L, key=lambda x: x[0])[len(L)//2:]\n",
        "  \n",
        "  return distancia_divide_y_venceras(distancia_divide_y_venceras(LISTA_IZQ) + distancia_divide_y_venceras(LISTA_DER))\n",
        "\n",
        "@calcular_tiempo\n",
        "def DDV(L):\n",
        "   return distancia_divide_y_venceras(L)\n",
        "\n",
        "N = 100\n",
        "LISTA_2D = [(random.randrange(1,N*10),random.randrange(1,N*10) ) for _ in range(N)]\n",
        "DDV(LISTA_2D[:10])\n",
        "\n"
      ],
      "execution_count": 39,
      "outputs": [
        {
          "output_type": "stream",
          "text": [
            "Tiempo de ejecución para algoritmo: 0.00012421607971191406\n",
            "Tiempo de ejecución para algoritmo: 0.0002880096435546875\n"
          ],
          "name": "stdout"
        },
        {
          "output_type": "execute_result",
          "data": {
            "text/plain": [
              "[(582, 340), (644, 326)]"
            ]
          },
          "metadata": {
            "tags": []
          },
          "execution_count": 39
        }
      ]
    },
    {
      "metadata": {
        "id": "GpeedfpCLhL4",
        "colab_type": "text"
      },
      "cell_type": "markdown",
      "source": [
        "### **Programación Dinámica**"
      ]
    },
    {
      "metadata": {
        "id": "nfBuliCfFhZW",
        "colab_type": "code",
        "colab": {}
      },
      "cell_type": "code",
      "source": [
        "def Precios(TARIFAS):\n",
        "  #Total de Nodos\n",
        "  N = len(TARIFAS([0]))\n",
        "  #Inicialización de la tabla de precios\n",
        "  PRECIOS = [[9999]*N for i in [9999]*N]\n",
        "  RUTA = [[\"\"]*N for i in [\"\"]*N]\n",
        "  \n",
        "  for i in range(N-1):\n",
        "    for j in range(i+1,N):\n",
        "      MIN = TARIFAS[i][j]\n",
        "      RUTA[i][j] = i\n",
        "      \n",
        "      for k in range(i,j):\n",
        "        if PRECIOS[i][k] + TARIFAS[k][j] < MIN:\n",
        "          MIN = min(MIN, PRECIOS[i][k] + TARIFAS[k][j])\n",
        "          RUTA[i][j] = k\n",
        "        PRECIOS[i][j] = MIN\n",
        "  return PRECIOS, RUTA    \n",
        "      \n",
        "      "
      ],
      "execution_count": 0,
      "outputs": []
    }
  ]
}