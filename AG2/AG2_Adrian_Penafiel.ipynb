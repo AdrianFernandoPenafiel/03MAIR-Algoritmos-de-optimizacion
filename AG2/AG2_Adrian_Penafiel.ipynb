{
  "nbformat": 4,
  "nbformat_minor": 0,
  "metadata": {
    "colab": {
      "name": "AG2 - Adrian Penafiel.ipynb",
      "version": "0.3.2",
      "provenance": [],
      "include_colab_link": true
    },
    "kernelspec": {
      "name": "python3",
      "display_name": "Python 3"
    }
  },
  "cells": [
    {
      "cell_type": "markdown",
      "metadata": {
        "id": "view-in-github",
        "colab_type": "text"
      },
      "source": [
        "<a href=\"https://colab.research.google.com/github/AdrianFernandoPenafiel/03MAIR-Algoritmos-de-optimizacion/blob/master/AG2/AG2_Adrian_Penafiel.ipynb\" target=\"_parent\"><img src=\"https://colab.research.google.com/assets/colab-badge.svg\" alt=\"Open In Colab\"/></a>"
      ]
    },
    {
      "metadata": {
        "id": "zdEglyuREg37",
        "colab_type": "text"
      },
      "cell_type": "markdown",
      "source": [
        "# AG2 - Actividad Guiada 2 <br>\n",
        "\n",
        "## **Adrian Peñafiel** <br>\n",
        "\n",
        "URL: https://github.com/AdrianFernandoPenafiel/03MAIR-Algoritmos-de-optimizacion/tree/master/AG2\n"
      ]
    },
    {
      "metadata": {
        "id": "oTGkUz5wFi9Y",
        "colab_type": "code",
        "colab": {}
      },
      "cell_type": "code",
      "source": [
        "#Decorador para calcular_tiempo a la función para la cual queremos calcular el tiempo de ejecución(Isabel Vázquez)\n",
        "\n",
        "from time import time\n",
        "#Función para calcular el tiempo de ejecución\n",
        "def calcular_tiempo(f):\n",
        "   \n",
        "    def wrapper(*args, **kwargs):        \n",
        "        inicio = time()       \n",
        "        resultado = f(*args, **kwargs)       \n",
        "        tiempo = time() - inicio\n",
        "        print(\"Tiempo de ejecución para algoritmo: \"+str(tiempo))\n",
        "        return resultado\n",
        "    \n",
        "    return wrapper"
      ],
      "execution_count": 0,
      "outputs": []
    },
    {
      "metadata": {
        "id": "3AfIcEP6KpMb",
        "colab_type": "code",
        "colab": {}
      },
      "cell_type": "code",
      "source": [
        "import math\n",
        "import random\n",
        "\n"
      ],
      "execution_count": 0,
      "outputs": []
    },
    {
      "metadata": {
        "id": "NgLgkermEwll",
        "colab_type": "code",
        "colab": {
          "base_uri": "https://localhost:8080/",
          "height": 34
        },
        "outputId": "bbac579d-6162-488c-a477-70e0765ea000"
      },
      "cell_type": "code",
      "source": [
        "\n",
        "\n",
        "def distancia(A,B):\n",
        "  if type(A) is int or type(A) is float:\n",
        "    return abs(B-A)\n",
        "  else:\n",
        "    return math.sqrt(sum([(A[i]-B[i])**2 for i in range(len(A))]))\n",
        " \n",
        "#distancia(2,5)  #en 1D\n",
        "distancia((1,3) , (2,5))   #en 2D\n"
      ],
      "execution_count": 9,
      "outputs": [
        {
          "output_type": "execute_result",
          "data": {
            "text/plain": [
              "2.23606797749979"
            ]
          },
          "metadata": {
            "tags": []
          },
          "execution_count": 9
        }
      ]
    },
    {
      "metadata": {
        "id": "jrSdx_HYF7Y0",
        "colab_type": "code",
        "colab": {
          "base_uri": "https://localhost:8080/",
          "height": 34
        },
        "outputId": "57eeed8f-fb15-465e-84e5-dee804cebef9"
      },
      "cell_type": "code",
      "source": [
        "#@calcular_tiempo\n",
        "def distancia_fuerza_bruta(L):\n",
        "  mejor_distancia = 100000e10\n",
        "  A,B = (),()\n",
        "  for i in range(len(L)):\n",
        "    for j in range(i+1,len(L)):\n",
        "      D = distancia(L[i],L[j])\n",
        "      if D < mejor_distancia:\n",
        "        A,B = L[i],L[j]\n",
        "        mejor_distancia = D\n",
        "  return [A,B]\n",
        "\n",
        "N = 100\n",
        "LISTA_2D = [(random.randrange(1,N*10),random.randrange(1,N*10) ) for _ in range(N)]\n",
        "#print(LISTA_2D)\n",
        "\n",
        "distancia_fuerza_bruta(LISTA_2D)"
      ],
      "execution_count": 47,
      "outputs": [
        {
          "output_type": "execute_result",
          "data": {
            "text/plain": [
              "[(449, 363), (435, 369)]"
            ]
          },
          "metadata": {
            "tags": []
          },
          "execution_count": 47
        }
      ]
    },
    {
      "metadata": {
        "id": "-bZvXZ_1HJNp",
        "colab_type": "text"
      },
      "cell_type": "markdown",
      "source": [
        "### **Divide y Vencerás**\n"
      ]
    },
    {
      "metadata": {
        "id": "9TztMAYWHGFJ",
        "colab_type": "code",
        "colab": {
          "base_uri": "https://localhost:8080/",
          "height": 87
        },
        "outputId": "c9e07442-c383-4a3e-8d1f-5678c5bd8d6d"
      },
      "cell_type": "code",
      "source": [
        "def distancia_divide_y_venceras(L):\n",
        "  #Si hay pocos mejor por fuerza bruta\n",
        "  if len(L)<=10:\n",
        "    return distancia_fuerza_bruta(L)\n",
        "\n",
        "  #Dividimos por la primera corrdenada\n",
        "  #pivote = sum([L[i][0] for i in range(len(L))])/len(L) #Tomamos la media como pivote\n",
        "  \n",
        "  #Mejora, ordenar la lista una sola vez\n",
        "  L_SORTED = sorted(L, key=lambda x: x[0])\n",
        "  \n",
        "  #LISTA_IZQ = sorted(L, key=lambda x: x[0])[:len(L)//2] #division entera\n",
        "  #LISTA_DER = sorted(L, key=lambda x: x[0])[len(L)//2:]\n",
        "  \n",
        "  LISTA_IZQ = L_SORTED[:len(L)//2]\n",
        "  LISTA_DER = L_SORTED[len(L)//2:]\n",
        "  \n",
        "  #PUNTOS_LISTA_IZQ = distancia_divide_y_venceras(LISTA_IZQ)\n",
        "  #PUNTOS_LISTA_DER = distancia_divide_y_venceras(LISTA_DER)\n",
        "  #print(LISTA_IZQ)\n",
        "  #print(LISTA_DER)\n",
        "  #return distancia_fuerza_bruta(PUNTOS_LISTA_IZQ + PUNTOS_LISTA_DER)\n",
        "  \n",
        "  return distancia_divide_y_venceras(distancia_divide_y_venceras(LISTA_IZQ) + distancia_divide_y_venceras(LISTA_DER))\n",
        "\n",
        "@calcular_tiempo\n",
        "def LANZA(L):\n",
        "   return distancia_divide_y_venceras(L)\n",
        "\n",
        "N = 100\n",
        "LISTA_2D = [(random.randrange(1,N*10),random.randrange(1,N*10) ) for _ in range(N)]\n",
        "\n",
        "#distancia_divide_y_venceras(LISTA_2D[:20])\n",
        "SOL = LANZA(LISTA_2D[:100])\n",
        "\n",
        "print(SOL[0])\n",
        "print(SOL[1])\n",
        "print(distancia(SOL[0],SOL[1]))\n",
        "\n"
      ],
      "execution_count": 54,
      "outputs": [
        {
          "output_type": "stream",
          "text": [
            "Tiempo de ejecución para algoritmo: 0.0013470649719238281\n",
            "(529, 289)\n",
            "(530, 283)\n",
            "6.082762530298219\n"
          ],
          "name": "stdout"
        }
      ]
    },
    {
      "metadata": {
        "id": "GpeedfpCLhL4",
        "colab_type": "text"
      },
      "cell_type": "markdown",
      "source": [
        "### **Programación Dinámica**"
      ]
    },
    {
      "metadata": {
        "id": "nfBuliCfFhZW",
        "colab_type": "code",
        "colab": {
          "base_uri": "https://localhost:8080/",
          "height": 125
        },
        "outputId": "2311358f-077e-4857-a9da-075d3f11479f"
      },
      "cell_type": "code",
      "source": [
        "TARIFAS = [\n",
        "[0,5,4,3,999,999,999],\n",
        "[999,0,999,2,3,999,11],\n",
        "[999,999, 0,1,999,4,10],\n",
        "[999,999,999, 0,5,6,9],\n",
        "[999,999, 999,999,0,999,4],\n",
        "[999,999, 999,999,999,0,3],\n",
        "[999,999,999,999,999,999,0]\n",
        "]\n",
        "\n",
        "def Precios(TARIFAS):\n",
        "  #Total de Nodos\n",
        "  N = len(TARIFAS[0])\n",
        "  #Inicialización de la tabla de precios\n",
        "  PRECIOS = [[9999]*N for i in [9999]*N]\n",
        "  RUTA = [[\"\"]*N for i in [9999]*N]\n",
        "  \n",
        "  for i in range(N-1):\n",
        "    for j in range(i+1,N):\n",
        "      MIN = TARIFAS[i][j]\n",
        "      RUTA[i][j] = i\n",
        "      \n",
        "      for k in range(i,j):\n",
        "        if PRECIOS[i][k] + TARIFAS[k][j] < MIN:\n",
        "          MIN = min(MIN, PRECIOS[i][k] + TARIFAS[k][j])\n",
        "          RUTA[i][j] = k\n",
        "        PRECIOS[i][j] = MIN\n",
        "        \n",
        "  return PRECIOS, RUTA    \n",
        "\n",
        "PRECIOS, RUTAS = Precios(TARIFAS)\n",
        "print(PRECIOS)\n",
        "print(RUTAS)\n",
        "\n",
        "def calcular_ruta(RUTA, desde, hasta):\n",
        "  if desde == hasta:\n",
        "    #print(\"Ir a :\" + str(desde))\n",
        "    return desde \n",
        "  else:\n",
        "    return str(calcular_ruta(RUTA, desde, RUTA[desde][hasta])) +  ',' + str(RUTA[desde][hasta]) \n",
        "\n",
        "print(\"\\nLa ruta es:\")  \n",
        "calcular_ruta(RUTAS, 0,6)"
      ],
      "execution_count": 66,
      "outputs": [
        {
          "output_type": "stream",
          "text": [
            "[[9999, 5, 4, 3, 8, 8, 11], [9999, 9999, 999, 2, 3, 8, 7], [9999, 9999, 9999, 1, 6, 4, 7], [9999, 9999, 9999, 9999, 5, 6, 9], [9999, 9999, 9999, 9999, 9999, 999, 4], [9999, 9999, 9999, 9999, 9999, 9999, 3], [9999, 9999, 9999, 9999, 9999, 9999, 9999]]\n",
            "[['', 0, 0, 0, 1, 2, 5], ['', '', 1, 1, 1, 3, 4], ['', '', '', 2, 3, 2, 5], ['', '', '', '', 3, 3, 3], ['', '', '', '', '', 4, 4], ['', '', '', '', '', '', 5], ['', '', '', '', '', '', '']]\n",
            "\n",
            "La ruta es:\n"
          ],
          "name": "stdout"
        },
        {
          "output_type": "execute_result",
          "data": {
            "text/plain": [
              "'0,0,2,5'"
            ]
          },
          "metadata": {
            "tags": []
          },
          "execution_count": 66
        }
      ]
    }
  ]
}