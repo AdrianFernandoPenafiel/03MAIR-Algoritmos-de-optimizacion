{
  "nbformat": 4,
  "nbformat_minor": 0,
  "metadata": {
    "colab": {
      "name": "AG1 - AdrianPenafiel.ipynb",
      "version": "0.3.2",
      "provenance": [],
      "include_colab_link": true
    },
    "kernelspec": {
      "name": "python3",
      "display_name": "Python 3"
    }
  },
  "cells": [
    {
      "cell_type": "markdown",
      "metadata": {
        "id": "view-in-github",
        "colab_type": "text"
      },
      "source": [
        "<a href=\"https://colab.research.google.com/github/AdrianFernandoPenafiel/03MAIR-Algoritmos-de-optimizacion/blob/master/AG1/AG1_AdrianPenafiel.ipynb\" target=\"_parent\"><img src=\"https://colab.research.google.com/assets/colab-badge.svg\" alt=\"Open In Colab\"/></a>"
      ]
    },
    {
      "metadata": {
        "id": "pdan1jYcSNSV",
        "colab_type": "text"
      },
      "cell_type": "markdown",
      "source": [
        "# **AG1 - Actividad Guiada 1** <br>\n",
        "\n",
        "## **Adrian Peñafiel** <br>\n",
        "\n",
        "https://github.com/AdrianFernandoPenafiel/03MAIR-Algoritmos-de-optimizacion/tree/master/AG1 <br>\n",
        "\n"
      ]
    },
    {
      "metadata": {
        "id": "guFeRIupeoXH",
        "colab_type": "text"
      },
      "cell_type": "markdown",
      "source": [
        "### **DECORADOR PARA CALCULO DE TIEMPOS**"
      ]
    },
    {
      "metadata": {
        "id": "hbLXaIR1jCZ4",
        "colab_type": "code",
        "colab": {}
      },
      "cell_type": "code",
      "source": [
        "#Decorador para calcular_tiempo a la función para la cual queremos calcular el tiempo de ejecución(Isabel Vázquez)\n",
        "\n",
        "from time import time\n",
        "#Función para calcular el tiempo de ejecución\n",
        "def calcular_tiempo(f):\n",
        "   \n",
        "    def wrapper(*args, **kwargs):        \n",
        "        inicio = time()       \n",
        "        resultado = f(*args, **kwargs)       \n",
        "        tiempo = time() - inicio\n",
        "        print(\"Tiempo de ejecución para algoritmo: \"+str(tiempo))\n",
        "        return resultado\n",
        "    \n",
        "    return wrapper\n"
      ],
      "execution_count": 0,
      "outputs": []
    },
    {
      "metadata": {
        "id": "GVRhK6F-eIrH",
        "colab_type": "text"
      },
      "cell_type": "markdown",
      "source": [
        "### **TECNICA DIVIDE Y VENCERAS**\n"
      ]
    },
    {
      "metadata": {
        "id": "LoDwdGKESf9d",
        "colab_type": "code",
        "outputId": "3cc7c746-6766-40c9-933f-8372f7966029",
        "colab": {
          "base_uri": "https://localhost:8080/",
          "height": 85
        }
      },
      "cell_type": "code",
      "source": [
        "A = [9187, 244, 4054, 9222, 8373, 4993, 5265, 5470, 4519, 7182, 2035, 3506, 4337, 7580, 2554, 2824, 8357, 4447, 7379]\n",
        "\n",
        "#Quick_Sort\n",
        "def QuickSort(A):\n",
        "  if len(A) <= 1:\n",
        "    return A\n",
        "  if len(A) == 2:\n",
        "    return [min(A),max(A)]\n",
        "  \n",
        "  pivote = (A[0]+A[1]+A[2])/3\n",
        " \n",
        "  \n",
        "  izq=[]\n",
        "  der=[]\n",
        "  \n",
        "  for i in A:\n",
        "    if i<pivote:\n",
        "      izq.append(i)\n",
        "    else:\n",
        "      der.append(i)\n",
        "  \n",
        "  return QuickSort(izq) + QuickSort(der)\n",
        "\n",
        "def QuickSort2(A):   #Evaluando impacto de buscar el promedio como pivote, lo cual representa dos barridos internos previos a la lista\n",
        "  if len(A) <= 1:\n",
        "    return A\n",
        "  if len(A) == 2:\n",
        "    return [min(A),max(A)]\n",
        "  \n",
        "  pivote = (max(A)-min(A))*0.5\n",
        " \n",
        "  \n",
        "  izq=[]\n",
        "  der=[]\n",
        "  \n",
        "  for i in A:\n",
        "    if i<pivote:\n",
        "      izq.append(i)\n",
        "    else:\n",
        "      der.append(i)\n",
        "  \n",
        "  return QuickSort(izq) + QuickSort(der)\n",
        "\n",
        "@calcular_tiempo\n",
        "def QS1(A):\n",
        "  return QuickSort(A)\n",
        "\n",
        "print('QSClase:' + str(QS1(A)))\n",
        "\n",
        "@calcular_tiempo\n",
        "def QS2(A):\n",
        "  return QuickSort2(A)\n",
        "\n",
        "print('QS2:' + str(QS2(A)))\n",
        "  "
      ],
      "execution_count": 36,
      "outputs": [
        {
          "output_type": "stream",
          "text": [
            "Tiempo de ejecución para algoritmo: 3.4332275390625e-05\n",
            "QSClase:[244, 2035, 2554, 2824, 3506, 4054, 4337, 4447, 4519, 4993, 5265, 5470, 7182, 7379, 7580, 8357, 8373, 9187, 9222]\n",
            "Tiempo de ejecución para algoritmo: 3.62396240234375e-05\n",
            "QS2:[244, 2035, 2554, 2824, 3506, 4054, 4337, 4447, 4519, 4993, 5265, 5470, 7182, 7379, 7580, 8357, 8373, 9187, 9222]\n"
          ],
          "name": "stdout"
        }
      ]
    },
    {
      "metadata": {
        "id": "5qqkwo5Qfl82",
        "colab_type": "code",
        "colab": {
          "base_uri": "https://localhost:8080/",
          "height": 51
        },
        "outputId": "ec57e939-5027-4b6c-f73d-953d1a0e7eeb"
      },
      "cell_type": "code",
      "source": [
        "#QuickSort TERCERA ALTERNATIVA\n",
        "\n",
        "# Dado que en clases discutiamos el impacto que tendría la selección del punto pivote inicial\n",
        "# aqui coloco una forma de \"dividir\" ideal buscando el punto medio, pero el impacto que representa \n",
        "# en los tiempos es relevante como fue discutido\n",
        "\n",
        "def Dividir(Ar,inf,sup):\n",
        "    i = inf+1\n",
        "    j = sup\n",
        "    pivot = Ar[inf]\n",
        "    while(i<=j):\n",
        "        while(Ar[i]<pivot and i<sup):\n",
        "            i = i+1\n",
        "        while(Ar[j]>pivot):\n",
        "            j = j-1\n",
        "        if(i<j):\n",
        "            Ar[i],Array[j] = Ar[j],Ar[i]\n",
        "            i = i+1\n",
        "            j = j-1\n",
        "        else:\n",
        "            i = i+1\n",
        "    Ar[inf] = Ar[j]\n",
        "    Ar[j] = pivot\n",
        "    return j\n",
        " \n",
        "def QuickSort3(Ar,inf,sup):\n",
        "    if(inf>=sup):\n",
        "        return\n",
        "    piv_loc = Dividir(Ar,inf,sup)\n",
        "    QuickSort3(Ar,inf,piv_loc-1)\n",
        "    QuickSort3(Ar,piv_loc+1,up)\n",
        "    \n",
        "\n",
        "@calcular_tiempo\n",
        "def QS3(A):\n",
        "  QuickSort3(A,low,up)\n",
        "\n",
        "A = [9187, 244, 4054, 9222, 8373, 4993, 5265, 5470, 4519, 7182, 2035, 3506, 4337, 7580, 2554, 2824, 8357, 4447, 7379]\n",
        "inf = 0\n",
        "sup = len(A) - 1\n",
        "\n",
        "QS3(A)\n",
        "print('QS3:' + str(A))"
      ],
      "execution_count": 40,
      "outputs": [
        {
          "output_type": "stream",
          "text": [
            "Tiempo de ejecución para algoritmo: 8.797645568847656e-05\n",
            "QS3:[244, 2035, 2035, 2035, 2035, 2554, 2035, 2035, 2035, 2035, 2035, 2554, 2554, 2824, 2824, 2824, 7379, 7379, 7379]\n"
          ],
          "name": "stdout"
        }
      ]
    },
    {
      "metadata": {
        "id": "M3CKuxNSe08q",
        "colab_type": "text"
      },
      "cell_type": "markdown",
      "source": [
        "### **ALGORITMOS VORACES**\n"
      ]
    },
    {
      "metadata": {
        "id": "fJ-HXG7Tf54n",
        "colab_type": "code",
        "outputId": "9f4abf5a-5d69-4345-b7c6-36b879142549",
        "colab": {
          "base_uri": "https://localhost:8080/",
          "height": 34
        }
      },
      "cell_type": "code",
      "source": [
        "\n",
        "\n",
        "def CambioMonedas(Cantidad, Sistema):\n",
        "  \n",
        "  Solucion = [0 for i in range(len(Sistema))] #Inicializar con Cero nuestra solución para cada moneda dels sistema\n",
        "  \n",
        "  #Asegurar que el Sistema de monedas este ordenado de mayor a menor, ya que el algoritmo busca para cada moneda en base al index\n",
        "  Sistema.sort(reverse=True)\n",
        "  \n",
        "  ValorAcumulado = 0\n",
        "  \n",
        "  for i in range(len(Sistema)):\n",
        "    monedas = int((Cantidad-ValorAcumulado)/Sistema[i])\n",
        "    Solucion[i]=monedas\n",
        "    ValorAcumulado += monedas*Sistema[i]\n",
        "  \n",
        "    if ValorAcumulado == Cantidad:\n",
        "      return Solucion\n",
        "    \n",
        "  return Solucion\n",
        "\n",
        "Sistema = [1,5,10,25]\n",
        "print(CambioMonedas(99,Sistema))\n",
        "  "
      ],
      "execution_count": 0,
      "outputs": [
        {
          "output_type": "stream",
          "text": [
            "[3, 2, 0, 4]\n"
          ],
          "name": "stdout"
        }
      ]
    },
    {
      "metadata": {
        "id": "VdrBc5ble3ni",
        "colab_type": "text"
      },
      "cell_type": "markdown",
      "source": [
        "### **TECNICA VUELTA ATRAS**\n"
      ]
    },
    {
      "metadata": {
        "id": "87wZTjomgLnM",
        "colab_type": "code",
        "outputId": "0bbaa713-1314-49e6-91c5-f9ede2d88fc4",
        "colab": {
          "base_uri": "https://localhost:8080/",
          "height": 1547
        }
      },
      "cell_type": "code",
      "source": [
        "def escribe(solucion):\n",
        "  for i in range(len(solucion)): #numero de filas\n",
        "    fila = ''\n",
        "    for j in range(len(solucion)): #numero de columnas \n",
        "      if j==solucion[i]-1:\n",
        "        fila = fila + ' * '\n",
        "      else:\n",
        "        fila = fila + ' - '\n",
        "    print(fila)\n",
        "  return\n",
        "\n",
        "def es_prometedora(Solucion,etapa):\n",
        "  for i in range(etapa+1):\n",
        "    if solucion.count(solucion[i])>1: return False\n",
        "    #Verifica Diagonales\n",
        "    for j in range(i+1,etapa+1):\n",
        "      if abs(i-j)==abs(solucion[i]-solucion[j]): return False\n",
        "  return True\n",
        "\n",
        "def reinas(N,solucion,etapa): #Tamaño del tablero\n",
        "  #Nunca hay solución para N<=3\n",
        "  if N<=3:\n",
        "    print('\\nImposible encontrar solución')\n",
        "    return\n",
        "    \n",
        "  for i in range(1,N+1):\n",
        "    solucion[etapa]=i\n",
        "    \n",
        "    if es_prometedora(solucion,etapa):\n",
        "      if etapa==N-1:\n",
        "        print('\\n\\nLa solución es:')\n",
        "        print(solucion)\n",
        "        escribe(solucion)\n",
        "      else:\n",
        "        reinas(N,solucion,etapa+1)\n",
        "    else:\n",
        "      None\n",
        "    \n",
        "    solucion[etapa]=0\n",
        "\n",
        "    \n",
        "N=5 #Numero de reinas = Numero de filas\n",
        "solucion = [0 for i in range(N)]\n",
        "etapa = 0\n",
        "\n",
        "reinas(N,solucion,etapa)"
      ],
      "execution_count": 3,
      "outputs": [
        {
          "output_type": "stream",
          "text": [
            "\n",
            "\n",
            "La solución es:\n",
            "[1, 3, 5, 2, 4]\n",
            " *  -  -  -  - \n",
            " -  -  *  -  - \n",
            " -  -  -  -  * \n",
            " -  *  -  -  - \n",
            " -  -  -  *  - \n",
            "\n",
            "\n",
            "La solución es:\n",
            "[1, 4, 2, 5, 3]\n",
            " *  -  -  -  - \n",
            " -  -  -  *  - \n",
            " -  *  -  -  - \n",
            " -  -  -  -  * \n",
            " -  -  *  -  - \n",
            "\n",
            "\n",
            "La solución es:\n",
            "[2, 4, 1, 3, 5]\n",
            " -  *  -  -  - \n",
            " -  -  -  *  - \n",
            " *  -  -  -  - \n",
            " -  -  *  -  - \n",
            " -  -  -  -  * \n",
            "\n",
            "\n",
            "La solución es:\n",
            "[2, 5, 3, 1, 4]\n",
            " -  *  -  -  - \n",
            " -  -  -  -  * \n",
            " -  -  *  -  - \n",
            " *  -  -  -  - \n",
            " -  -  -  *  - \n",
            "\n",
            "\n",
            "La solución es:\n",
            "[3, 1, 4, 2, 5]\n",
            " -  -  *  -  - \n",
            " *  -  -  -  - \n",
            " -  -  -  *  - \n",
            " -  *  -  -  - \n",
            " -  -  -  -  * \n",
            "\n",
            "\n",
            "La solución es:\n",
            "[3, 5, 2, 4, 1]\n",
            " -  -  *  -  - \n",
            " -  -  -  -  * \n",
            " -  *  -  -  - \n",
            " -  -  -  *  - \n",
            " *  -  -  -  - \n",
            "\n",
            "\n",
            "La solución es:\n",
            "[4, 1, 3, 5, 2]\n",
            " -  -  -  *  - \n",
            " *  -  -  -  - \n",
            " -  -  *  -  - \n",
            " -  -  -  -  * \n",
            " -  *  -  -  - \n",
            "\n",
            "\n",
            "La solución es:\n",
            "[4, 2, 5, 3, 1]\n",
            " -  -  -  *  - \n",
            " -  *  -  -  - \n",
            " -  -  -  -  * \n",
            " -  -  *  -  - \n",
            " *  -  -  -  - \n",
            "\n",
            "\n",
            "La solución es:\n",
            "[5, 2, 4, 1, 3]\n",
            " -  -  -  -  * \n",
            " -  *  -  -  - \n",
            " -  -  -  *  - \n",
            " *  -  -  -  - \n",
            " -  -  *  -  - \n",
            "\n",
            "\n",
            "La solución es:\n",
            "[5, 3, 1, 4, 2]\n",
            " -  -  -  -  * \n",
            " -  -  *  -  - \n",
            " *  -  -  -  - \n",
            " -  -  -  *  - \n",
            " -  *  -  -  - \n"
          ],
          "name": "stdout"
        }
      ]
    },
    {
      "metadata": {
        "id": "Q3p9LCAPoFLF",
        "colab_type": "code",
        "colab": {}
      },
      "cell_type": "code",
      "source": [
        ""
      ],
      "execution_count": 0,
      "outputs": []
    }
  ]
}