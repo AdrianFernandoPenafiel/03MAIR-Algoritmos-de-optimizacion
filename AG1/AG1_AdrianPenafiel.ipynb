{
  "nbformat": 4,
  "nbformat_minor": 0,
  "metadata": {
    "colab": {
      "name": "AG1 - AdrianPenafiel.ipynb",
      "version": "0.3.2",
      "provenance": [],
      "include_colab_link": true
    },
    "kernelspec": {
      "name": "python3",
      "display_name": "Python 3"
    }
  },
  "cells": [
    {
      "cell_type": "markdown",
      "metadata": {
        "id": "view-in-github",
        "colab_type": "text"
      },
      "source": [
        "<a href=\"https://colab.research.google.com/github/AdrianFernandoPenafiel/03MAIR-Algoritmos-de-optimizacion/blob/master/AG1/AG1_AdrianPenafiel.ipynb\" target=\"_parent\"><img src=\"https://colab.research.google.com/assets/colab-badge.svg\" alt=\"Open In Colab\"/></a>"
      ]
    },
    {
      "metadata": {
        "id": "pdan1jYcSNSV",
        "colab_type": "text"
      },
      "cell_type": "markdown",
      "source": [
        "AG1 - Actividad Guiada 1 <br>\n",
        "\n",
        "Adrian Peñafiel <br>\n",
        "\n",
        "https://github.com/AdrianFernandoPenafiel/03MAIR-Algoritmos-de-optimizacion/tree/master/AG1 <br>\n",
        "\n"
      ]
    },
    {
      "metadata": {
        "id": "hbLXaIR1jCZ4",
        "colab_type": "code",
        "colab": {}
      },
      "cell_type": "code",
      "source": [
        "#Decorador para calcular_tiempo a la función para la cual queremos calcular el tiempo de ejecución(Isabel Vázquez)\n",
        "\n",
        "from time import time\n",
        "#Función para calcular el tiempo de ejecución\n",
        "def calcular_tiempo(f):\n",
        "   \n",
        "    def wrapper(*args, **kwargs):        \n",
        "        inicio = time()       \n",
        "        resultado = f(*args, **kwargs)       \n",
        "        tiempo = time() - inicio\n",
        "        print(\"Tiempo de ejecución para algoritmo: \"+str(tiempo))\n",
        "        return resultado\n",
        "    \n",
        "    return wrapper\n"
      ],
      "execution_count": 0,
      "outputs": []
    },
    {
      "metadata": {
        "id": "LoDwdGKESf9d",
        "colab_type": "code",
        "colab": {
          "base_uri": "https://localhost:8080/",
          "height": 51
        },
        "outputId": "8ca65242-9cae-4c5f-89c4-68642182a5ca"
      },
      "cell_type": "code",
      "source": [
        "A = [9187, 244, 4054, 9222, 8373, 4993, 5265, 5470, 4519, 7182, 2035, 3506, 4337, 7580, 2554, 2824, 8357, 4447, 7379]\n",
        "\n",
        "#Quick_Sort\n",
        "def QuickSort(A):\n",
        "  if len(A) <= 1:\n",
        "    return A\n",
        "  if len(A) == 2:\n",
        "    return [min(A),max(A)]\n",
        "  \n",
        "  pivote = (A[0]+A[1]+A[2])/3\n",
        " \n",
        "  \n",
        "  izq=[]\n",
        "  der=[]\n",
        "  \n",
        "  for i in A:\n",
        "    if i<pivote:\n",
        "      izq.append(i)\n",
        "    else:\n",
        "      der.append(i)\n",
        "  \n",
        "  return QuickSort(izq) + QuickSort(der)\n",
        "\n",
        "\n",
        "\n",
        "@calcular_tiempo\n",
        "def QS(A):\n",
        "  return QuickSort(A)\n",
        "\n",
        "print(QS(A))\n",
        "  "
      ],
      "execution_count": 12,
      "outputs": [
        {
          "output_type": "stream",
          "text": [
            "Tiempo de ejecución para algoritmo: 3.5762786865234375e-05\n",
            "[244, 2035, 2554, 2824, 3506, 4054, 4337, 4447, 4519, 4993, 5265, 5470, 7182, 7379, 7580, 8357, 8373, 9187, 9222]\n"
          ],
          "name": "stdout"
        }
      ]
    },
    {
      "metadata": {
        "id": "fJ-HXG7Tf54n",
        "colab_type": "code",
        "colab": {
          "base_uri": "https://localhost:8080/",
          "height": 34
        },
        "outputId": "9f4abf5a-5d69-4345-b7c6-36b879142549"
      },
      "cell_type": "code",
      "source": [
        "\n",
        "\n",
        "def CambioMonedas(Cantidad, Sistema):\n",
        "  \n",
        "  Solucion = [0 for i in range(len(Sistema))] #Inicializar con Cero nuestra solución para cada moneda dels sistema\n",
        "  \n",
        "  #Asegurar que el Sistema de monedas este ordenado de mayor a menor, ya que el algoritmo busca para cada moneda en base al index\n",
        "  Sistema.sort(reverse=True)\n",
        "  \n",
        "  ValorAcumulado = 0\n",
        "  \n",
        "  for i in range(len(Sistema)):\n",
        "    monedas = int((Cantidad-ValorAcumulado)/Sistema[i])\n",
        "    Solucion[i]=monedas\n",
        "    ValorAcumulado += monedas*Sistema[i]\n",
        "  \n",
        "    if ValorAcumulado == Cantidad:\n",
        "      return Solucion\n",
        "    \n",
        "  return Solucion\n",
        "\n",
        "Sistema = [1,5,10,25]\n",
        "print(CambioMonedas(99,Sistema))\n",
        "  "
      ],
      "execution_count": 28,
      "outputs": [
        {
          "output_type": "stream",
          "text": [
            "[3, 2, 0, 4]\n"
          ],
          "name": "stdout"
        }
      ]
    },
    {
      "metadata": {
        "id": "87wZTjomgLnM",
        "colab_type": "code",
        "colab": {
          "base_uri": "https://localhost:8080/",
          "height": 1547
        },
        "outputId": "5ffcea20-aaa5-4e8d-91c5-b5d182e33ab9"
      },
      "cell_type": "code",
      "source": [
        "def escribe(solucion):\n",
        "  for i in range(len(solucion)): #numero de filas\n",
        "    fila = ''\n",
        "    for j in range(len(solucion)): #numero de columnas \n",
        "      if j==solucion[i]-1:\n",
        "        fila = fila + '*'\n",
        "      else:\n",
        "        fila = fila + '-'\n",
        "    print(fila)\n",
        "  return\n",
        "\n",
        "def es_prometedora(Solucion,etapa):\n",
        "  for i in range(etapa+1):\n",
        "    if solucion.count(solucion[i])>1: return False\n",
        "    #Verifica Diagonales\n",
        "    for j in range(i+1,etapa+1):\n",
        "      if abs(i-j)==abs(solucion[i]-solucion[j]): return False\n",
        "  return True\n",
        "\n",
        "def reinas(N,solucion,etapa): #Tamaño del tablero\n",
        "  #Nunca hay solución para N<=3\n",
        "  if N<=3:\n",
        "    print('\\nImposible encontrar solución')\n",
        "    return\n",
        "    \n",
        "  for i in range(1,N+1):\n",
        "    solucion[etapa]=i\n",
        "    \n",
        "    if es_prometedora(solucion,etapa):\n",
        "      if etapa==N-1:\n",
        "        print('\\n\\nLa solución es:')\n",
        "        print(solucion)\n",
        "        escribe(solucion)\n",
        "      else:\n",
        "        reinas(N,solucion,etapa+1)\n",
        "    else:\n",
        "      None\n",
        "    \n",
        "    solucion[etapa]=0\n",
        "\n",
        "    \n",
        "N=5 #Numero de reinas = Numero de filas\n",
        "solucion = [0 for i in range(N)]\n",
        "etapa = 0\n",
        "\n",
        "reinas(N,solucion,etapa)"
      ],
      "execution_count": 54,
      "outputs": [
        {
          "output_type": "stream",
          "text": [
            "\n",
            "\n",
            "La solución es:\n",
            "[1, 3, 5, 2, 4]\n",
            "*----\n",
            "--*--\n",
            "----*\n",
            "-*---\n",
            "---*-\n",
            "\n",
            "\n",
            "La solución es:\n",
            "[1, 4, 2, 5, 3]\n",
            "*----\n",
            "---*-\n",
            "-*---\n",
            "----*\n",
            "--*--\n",
            "\n",
            "\n",
            "La solución es:\n",
            "[2, 4, 1, 3, 5]\n",
            "-*---\n",
            "---*-\n",
            "*----\n",
            "--*--\n",
            "----*\n",
            "\n",
            "\n",
            "La solución es:\n",
            "[2, 5, 3, 1, 4]\n",
            "-*---\n",
            "----*\n",
            "--*--\n",
            "*----\n",
            "---*-\n",
            "\n",
            "\n",
            "La solución es:\n",
            "[3, 1, 4, 2, 5]\n",
            "--*--\n",
            "*----\n",
            "---*-\n",
            "-*---\n",
            "----*\n",
            "\n",
            "\n",
            "La solución es:\n",
            "[3, 5, 2, 4, 1]\n",
            "--*--\n",
            "----*\n",
            "-*---\n",
            "---*-\n",
            "*----\n",
            "\n",
            "\n",
            "La solución es:\n",
            "[4, 1, 3, 5, 2]\n",
            "---*-\n",
            "*----\n",
            "--*--\n",
            "----*\n",
            "-*---\n",
            "\n",
            "\n",
            "La solución es:\n",
            "[4, 2, 5, 3, 1]\n",
            "---*-\n",
            "-*---\n",
            "----*\n",
            "--*--\n",
            "*----\n",
            "\n",
            "\n",
            "La solución es:\n",
            "[5, 2, 4, 1, 3]\n",
            "----*\n",
            "-*---\n",
            "---*-\n",
            "*----\n",
            "--*--\n",
            "\n",
            "\n",
            "La solución es:\n",
            "[5, 3, 1, 4, 2]\n",
            "----*\n",
            "--*--\n",
            "*----\n",
            "---*-\n",
            "-*---\n"
          ],
          "name": "stdout"
        }
      ]
    },
    {
      "metadata": {
        "id": "Q3p9LCAPoFLF",
        "colab_type": "code",
        "colab": {}
      },
      "cell_type": "code",
      "source": [
        ""
      ],
      "execution_count": 0,
      "outputs": []
    }
  ]
}